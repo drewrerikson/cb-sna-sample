{
 "cells": [
  {
   "cell_type": "markdown",
   "metadata": {},
   "source": [
    "# Comment & Guestbook Support Data Selection and Exploration\n",
    "Selects samples of `n` texts to run support analysis on. Consider all non-spam non-employee users from the beginning of the network."
   ]
  },
  {
   "cell_type": "code",
   "execution_count": 1,
   "metadata": {},
   "outputs": [],
   "source": [
    "%reload_ext autoreload\n",
    "%autoreload 2\n",
    "%matplotlib inline"
   ]
  },
  {
   "cell_type": "code",
   "execution_count": 2,
   "metadata": {},
   "outputs": [],
   "source": [
    "import os\n",
    "import re\n",
    "import pandas as pd\n",
    "import numpy as np\n",
    "\n",
    "from collections import Counter\n",
    "import sqlite3\n",
    "from tqdm import tqdm\n",
    "import random\n",
    "import pickle\n",
    "from datetime import datetime\n",
    "\n",
    "import matplotlib.pyplot as plt\n",
    "import matplotlib.dates as md\n",
    "import matplotlib\n",
    "import pylab as pl\n",
    "from IPython.core.display import display, HTML"
   ]
  },
  {
   "cell_type": "code",
   "execution_count": 3,
   "metadata": {},
   "outputs": [],
   "source": [
    "working_dir = \"/home/srivbane/shared/caringbridge/data/projects/sna-social-support/data_selection\""
   ]
  },
  {
   "cell_type": "code",
   "execution_count": 5,
   "metadata": {},
   "outputs": [
    {
     "data": {
      "text/plain": [
       "28388948"
      ]
     },
     "execution_count": 5,
     "metadata": {},
     "output_type": "execute_result"
    }
   ],
   "source": [
    "metadata_dir = \"/home/srivbane/shared/caringbridge/data/projects/sna-social-support/user_metadata\"\n",
    "author_to_site = os.path.join(metadata_dir, \"interaction_metadata.h5\")\n",
    "df = pd.read_hdf(author_to_site)\n",
    "len(df)"
   ]
  },
  {
   "cell_type": "code",
   "execution_count": 6,
   "metadata": {},
   "outputs": [
    {
     "data": {
      "text/plain": [
       "447260"
      ]
     },
     "execution_count": 6,
     "metadata": {},
     "output_type": "execute_result"
    }
   ],
   "source": [
    "# load the list of valid users. how to regenerate valid_user_ids.txt to include ALL users?\n",
    "data_selection_working_dir = \"/home/srivbane/shared/caringbridge/data/projects/sna-social-support/data_selection\"\n",
    "valid_user_ids = set()\n",
    "with open(os.path.join(data_selection_working_dir, \"supportive_valid_user_ids.txt\"), 'r') as infile:\n",
    "    for line in infile:\n",
    "        user_id = line.strip()\n",
    "        if user_id == \"\":\n",
    "            continue\n",
    "        else:\n",
    "            valid_user_ids.add(int(user_id))\n",
    "len(valid_user_ids)"
   ]
  },
  {
   "cell_type": "code",
   "execution_count": 7,
   "metadata": {},
   "outputs": [
    {
     "data": {
      "text/plain": [
       "411269"
      ]
     },
     "execution_count": 7,
     "metadata": {},
     "output_type": "execute_result"
    }
   ],
   "source": [
    "# load the list of valid sites\n",
    "data_selection_working_dir = \"/home/srivbane/shared/caringbridge/data/projects/sna-social-support/data_selection\"\n",
    "valid_site_ids = set()\n",
    "with open(os.path.join(data_selection_working_dir, \"supportive_valid_site_ids.txt\"), 'r') as infile:\n",
    "    for line in infile:\n",
    "        site_id = line.strip()\n",
    "        if site_id == \"\":\n",
    "            continue\n",
    "        else:\n",
    "            valid_site_ids.add(int(site_id))\n",
    "len(valid_site_ids)"
   ]
  },
  {
   "cell_type": "code",
   "execution_count": null,
   "metadata": {},
   "outputs": [],
   "source": [
    "ints = df[(df.user_id.isin(valid_user_ids)) & (df.int_type != \"journal\") & (~df.is_self_interaction) & (df.is_nontrivial)]\n",
    "len(ints)"
   ]
  },
  {
   "cell_type": "code",
   "execution_count": null,
   "metadata": {},
   "outputs": [],
   "source": [
    "#comments = ints[ints.int_type == 'comment']\n",
    "#len(comments)"
   ]
  },
  {
   "cell_type": "code",
   "execution_count": null,
   "metadata": {},
   "outputs": [],
   "source": [
    "#comments_sample = comments.sample(n=100000)"
   ]
  },
  {
   "cell_type": "code",
   "execution_count": 10,
   "metadata": {},
   "outputs": [
    {
     "data": {
      "text/plain": [
       "5212040"
      ]
     },
     "execution_count": 10,
     "metadata": {},
     "output_type": "execute_result"
    }
   ],
   "source": [
    "guestbooks = ints[ints.int_type == 'guestbook']\n",
    "len(guestbooks)"
   ]
  },
  {
   "cell_type": "code",
   "execution_count": 11,
   "metadata": {},
   "outputs": [],
   "source": [
    "gb_sample = guestbooks.sample(n=1000000)"
   ]
  },
  {
   "cell_type": "code",
   "execution_count": 13,
   "metadata": {
    "scrolled": true
   },
   "outputs": [
    {
     "name": "stderr",
     "output_type": "stream",
     "text": [
      "100%|██████████| 1000000/1000000 [3:17:28<00:00, 84.40it/s]  \n"
     ]
    },
    {
     "name": "stdout",
     "output_type": "stream",
     "text": [
      "3:17:29.063122\n"
     ]
    }
   ],
   "source": [
    "# add the guestbook text directly\n",
    "s = datetime.now()\n",
    "import sqlite3\n",
    "try:\n",
    "    gb_db_filepath = \"/home/srivbane/shared/caringbridge/data/projects/caringbridge_core/updated_guestbook.sqlite\"\n",
    "    guestbook_db = sqlite3.connect(\n",
    "        gb_db_filepath,\n",
    "        detect_types=sqlite3.PARSE_DECLTYPES\n",
    "    )\n",
    "    guestbook_db.row_factory = sqlite3.Row\n",
    "    \n",
    "    body_texts = []\n",
    "    for user_id, site_id, created_at in tqdm(zip(gb_sample.user_id, gb_sample.site_id, gb_sample.created_at), total=1000000, position=False):\n",
    "        cursor = guestbook_db.execute(\"\"\"\n",
    "                    SELECT *\n",
    "                        FROM guestbook \n",
    "                        WHERE user_id = ? AND site_id = ? AND created_at = ?\n",
    "                    \"\"\", (user_id,site_id,created_at))\n",
    "        result = cursor.fetchall()\n",
    "        #assert len(result) == 1\n",
    "        result = result[0]\n",
    "        body = result['body']\n",
    "        body_texts.append(body)\n",
    "finally:\n",
    "    guestbook_db.close()\n",
    "assert len(body_texts) == len(gb_sample)\n",
    "gb_sample['body_text'] = body_texts\n",
    "print(datetime.now() - s)"
   ]
  },
  {
   "cell_type": "code",
   "execution_count": null,
   "metadata": {
    "scrolled": true
   },
   "outputs": [],
   "source": [
    "# add the comment text directly\n",
    "s = datetime.now()\n",
    "import sqlite3\n",
    "try:\n",
    "    cm_db_filepath = \"/home/srivbane/shared/caringbridge/data/projects/caringbridge_core/updated_comments.sqlite\"\n",
    "    comment_db = sqlite3.connect(\n",
    "        cm_db_filepath,\n",
    "        detect_types=sqlite3.PARSE_DECLTYPES\n",
    "    )\n",
    "    comment_db.row_factory = sqlite3.Row\n",
    "    \n",
    "    body_texts = []\n",
    "    for user_id, site_id, created_at in tqdm(zip(comments_sample.user_id, comments_sample.site_id, comments_sample.created_at), total=100000, position=False):\n",
    "        cursor = comment_db.execute(\"\"\"\n",
    "                    SELECT *\n",
    "                        FROM comments \n",
    "                        WHERE user_id = ? AND site_id = ? AND created_at = ?\n",
    "                    \"\"\", (user_id,site_id,created_at))\n",
    "        result = cursor.fetchall()\n",
    "        #assert len(result) == 1\n",
    "        result = result[0]\n",
    "        body = result['body']\n",
    "        body_texts.append(body)\n",
    "finally:\n",
    "    comment_db.close()\n",
    "assert len(body_texts) == len(comments_sample)\n",
    "comments_sample['body_text'] = body_texts\n",
    "print(datetime.now() - s)"
   ]
  },
  {
   "cell_type": "code",
   "execution_count": 14,
   "metadata": {},
   "outputs": [],
   "source": [
    "from html.parser import HTMLParser\n",
    "\n",
    "# See: https://stackoverflow.com/questions/753052/strip-html-from-strings-in-python\n",
    "class MLStripper(HTMLParser):\n",
    "    def __init__(self):\n",
    "        super().__init__()\n",
    "        self.reset()\n",
    "        self.strict = False\n",
    "        self.convert_charrefs = True\n",
    "        self.fed = []\n",
    "    def handle_data(self, d):\n",
    "        self.fed.append(d)\n",
    "    def handle_starttag(self, tag, attrs):\n",
    "        if tag == 'br':\n",
    "            self.fed.append(\"\\n\")  # this adds linebreaks in place of <br> tags\n",
    "    def get_data(self):\n",
    "        return ''.join(self.fed)\n",
    "\n",
    "\n",
    "def strip_tags(html_text):  # this function strips HTML tags from a given text string\n",
    "    s = MLStripper()\n",
    "    s.feed(html_text)\n",
    "    return s.get_data()\n",
    "\n",
    "cleaned_texts = []\n",
    "for body_text in gb_sample.body_text:\n",
    "    try:\n",
    "        cleaned_text = strip_tags(body_text)\n",
    "        cleaned_texts.append(cleaned_text)\n",
    "    except TypeError:\n",
    "        cleaned_texts.append(\"\")\n",
    "gb_sample['body_text'] = cleaned_texts\n",
    "#cleaned_texts = []\n",
    "#for body_text in comments_sample.body_text:\n",
    "#    cleaned_text = strip_tags(body_text)\n",
    "#    cleaned_texts.append(cleaned_text)\n",
    "#comments_sample['body_text'] = cleaned_texts"
   ]
  },
  {
   "cell_type": "code",
   "execution_count": 5,
   "metadata": {},
   "outputs": [],
   "source": [
    "output_data_dir = \"/home/srivbane/shared/caringbridge/data/projects/sna-social-support/support_modeling/samples\""
   ]
  },
  {
   "cell_type": "code",
   "execution_count": 18,
   "metadata": {},
   "outputs": [],
   "source": [
    "gb_sample.to_hdf(os.path.join(output_data_dir, 'gb_sample_1000000_021220.h5'), key='gb_sample', mode='w')"
   ]
  },
  {
   "cell_type": "code",
   "execution_count": 22,
   "metadata": {},
   "outputs": [],
   "source": [
    "comments_sample.to_hdf(os.path.join(output_data_dir, 'com_sample_10000_20200211.h5'), key='comments', mode='w')"
   ]
  },
  {
   "cell_type": "markdown",
   "metadata": {},
   "source": [
    "### For Annotation:"
   ]
  },
  {
   "cell_type": "code",
   "execution_count": 9,
   "metadata": {},
   "outputs": [],
   "source": [
    "gb_sample = pd.read_hdf(os.path.join(output_data_dir, 'gb_sample_1000000_021220.h5'), key='gb_sample')"
   ]
  },
  {
   "cell_type": "code",
   "execution_count": 10,
   "metadata": {},
   "outputs": [],
   "source": [
    "sample = gb_sample.sample(n=100)"
   ]
  },
  {
   "cell_type": "code",
   "execution_count": 11,
   "metadata": {},
   "outputs": [],
   "source": [
    "port = 5011\n",
    "sample['link'] = [f\"http://127.0.0.1:{port}/guestbook/siteId/{site_id}\" for site_id in sample.site_id]\n",
    "sample['initiator_relationship_to_site_author'] = ''\n",
    "sample['support_rating'] = ''\n",
    "sample['other_comments'] = ''"
   ]
  },
  {
   "cell_type": "code",
   "execution_count": 13,
   "metadata": {},
   "outputs": [
    {
     "name": "stdout",
     "output_type": "stream",
     "text": [
      "Finished.\n"
     ]
    },
    {
     "data": {
      "text/plain": [
       "'support_annotation_022119.csv'"
      ]
     },
     "execution_count": 13,
     "metadata": {},
     "output_type": "execute_result"
    }
   ],
   "source": [
    "towrite_df = sample[['user_id', 'site_id', 'link', 'body_text', 'support_rating', 'other_comments']]\n",
    "sample_filepath = 'support_annotation_022119.csv'\n",
    "towrite_df.to_csv(sample_filepath, index=False)\n",
    "print(\"Finished.\")"
   ]
  },
  {
   "cell_type": "markdown",
   "metadata": {},
   "source": [
    "### Annotation Analysis"
   ]
  },
  {
   "cell_type": "code",
   "execution_count": 6,
   "metadata": {},
   "outputs": [],
   "source": [
    "ddf = pd.read_csv(\"data/drew-annotations.csv\")\n",
    "zdf = pd.read_csv(\"data/zach-annotations.csv\")"
   ]
  },
  {
   "cell_type": "code",
   "execution_count": 10,
   "metadata": {},
   "outputs": [],
   "source": [
    "d_scores = ddf.support_rating[:100]\n",
    "z_scores = zdf.support_rating[:100]"
   ]
  },
  {
   "cell_type": "code",
   "execution_count": 11,
   "metadata": {},
   "outputs": [
    {
     "data": {
      "text/plain": [
       "(0.5380886450170286, 7.757887643278645e-09)"
      ]
     },
     "execution_count": 11,
     "metadata": {},
     "output_type": "execute_result"
    }
   ],
   "source": [
    "from scipy.stats import pearsonr\n",
    "pearsonr(d_scores, z_scores)"
   ]
  },
  {
   "cell_type": "code",
   "execution_count": 9,
   "metadata": {},
   "outputs": [],
   "source": [
    "d_centered = d_scores - np.mean(d_scores)\n",
    "z_centered = z_scores - np.mean(z_scores)"
   ]
  },
  {
   "cell_type": "code",
   "execution_count": 15,
   "metadata": {},
   "outputs": [
    {
     "data": {
      "text/plain": [
       "Text(0.5, 1.0, 'Centered score frequency')"
      ]
     },
     "execution_count": 15,
     "metadata": {},
     "output_type": "execute_result"
    },
    {
     "data": {
      "image/png": "[encoded data removed]",
      "text/plain": [
       "<Figure size 2400x1000 with 2 Axes>"
      ]
     },
     "metadata": {},
     "output_type": "display_data"
    }
   ],
   "source": [
    "fig, axes = plt.subplots(1,2, figsize=(12, 5), dpi= 200, facecolor='w', edgecolor='k' )\n",
    "axes[0].hist(d_scores, bins=10, color=(0,1,0,.6))\n",
    "axes[0].hist(z_scores, bins=10, color=(0,0,1,.6))\n",
    "axes[0].set_title(\"Uncentered score frequency\")\n",
    "axes[1].hist(d_centered, bins=10, color=(0,1,0,.6))\n",
    "axes[1].hist(z_centered, bins=10, color=(0,0,1,.6))\n",
    "axes[1].set_title(\"Centered score frequency\")"
   ]
  },
  {
   "cell_type": "code",
   "execution_count": 56,
   "metadata": {},
   "outputs": [
    {
     "name": "stderr",
     "output_type": "stream",
     "text": [
      "/home/srivbane/shared/anaconda3/lib/python3.7/site-packages/ipykernel_launcher.py:6: UserWarning: Boolean Series key will be reindexed to match DataFrame index.\n",
      "  \n"
     ]
    }
   ],
   "source": [
    "d = pd.read_csv(\"data/drew-annotations.csv\")[:100][['body_text', 'support_rating']]\n",
    "z = pd.read_csv(\"data/zach-annotations.csv\")[:100][['body_text', 'support_rating']]\n",
    "compare = d.copy().rename(columns={'body_text': \"text\", 'support_rating': \"rating_d\"})\n",
    "compare['rating_z'] = z['support_rating']\n",
    "compare['d'] = abs(compare.rating_d - compare.rating_z)\n",
    "disagreements = compare.sort_values(by=['d'], ascending=False)[compare.d > 4]"
   ]
  },
  {
   "cell_type": "code",
   "execution_count": 57,
   "metadata": {},
   "outputs": [
    {
     "name": "stdout",
     "output_type": "stream",
     "text": [
      "Disagreement by 7.0:\n",
      "Hi Rita, Although I do not know you, I have had the privilege of meeting your daughter Brandi and your granddaughter Allie. I have no doubt that you are an amazing woman, as you have raised such beautiful, caring daughter! My daughter, Rylee goes to school with Allie and they are in gymnastics together. Allie has been such a wonderful friend to Rylee and I know that Rylee really looks up to her! My husband, Jeremy, was recently diagnosed with a very aggressive form of Non Hodgkin's Lymphoma. As I'm sure all that care about you can attest, it is really hard to watch the ones we love have to go through something so difficult, but you guys are such an inspiration to all of us!!! May God bless you and give you the strength you need to fight your cancer! May He also watch over your family during this struggle!\n",
      "\n",
      "Disagreement by 6.0:\n",
      "love you little man i hope you and your family have a great Christmas!! had a great day with all of you love Aunt Tara\n",
      "\n",
      "Disagreement by 6.0:\n",
      "Love hearing this great news! And thanks for sharing the article. I just finished reading it and it really helped to explain part of this journey you're navigating. Looking forward to more good news.\n",
      "\n",
      "Disagreement by 5.0:\n",
      "Keaton,\n",
      "We are coming to you from Case Freida's site.........it sounds as if you have faced some very great challenges..........we are holding you in prayer for a complete recovery...............we will keep checking in with you..........you are doing an excellent job!\n",
      "Colleen.........Katie's mom\n",
      "www.caringbridge.org/visit/katiesalomonsen\n",
      "\n",
      "Disagreement by 5.0:\n",
      "HI Karen and Keaton,\n",
      "Karen, thank you so much for taking the time to visit and sign Spencer's page.  That means the world to me!  I know your hands are full as you are on the other side of the world, so thank you for thinking of us!\n",
      "It was fun to read your Thanksgiving experience and I am glad it all turned out good without burning the place down :)\n",
      "I hope Keaton gets to feeling better soon!  Will y'all be home for Christmas???  Sending you love and prayers all the way to the Philipines!\n",
      "Love,\n",
      "April, Mike and Spencer\n",
      "\n",
      "Disagreement by 5.0:\n",
      "Good morning.\n",
      "I love reading about your Derby experiences. It sounds like such fun, and it really speaks volumes about what a SPECIAL young lady sweet Katherine was. She continues to inspire people, and I love that she's being forever remembered on other people's derby cars. PERFECT!!!!\n",
      "I wish you all a peaceful weekend, and SAFE TRAVELS back home!!!\n",
      "~Heide\n",
      "m/o ^Jessica^ (forever 17) - & Jake (17)\n",
      "caringbridge.org/visit/jessicarandall\n",
      "TEAM UNITE! Help Conquer Childhood Cancer!\n",
      "\n"
     ]
    }
   ],
   "source": [
    "for i, d in disagreements.iterrows():\n",
    "    print(f\"Disagreement by {d.d}:\\n{d.text}\\n\")"
   ]
  },
  {
   "cell_type": "markdown",
   "metadata": {},
   "source": [
    "### Agreement with Model"
   ]
  },
  {
   "cell_type": "code",
   "execution_count": 3,
   "metadata": {},
   "outputs": [
    {
     "data": {
      "text/plain": [
       "1000000"
      ]
     },
     "execution_count": 3,
     "metadata": {},
     "output_type": "execute_result"
    }
   ],
   "source": [
    "gbs = pd.read_hdf('data/classified_gbs.h5', key='gbs')\n",
    "len(gbs)"
   ]
  },
  {
   "cell_type": "code",
   "execution_count": 4,
   "metadata": {},
   "outputs": [
    {
     "data": {
      "text/html": [
       "<div>\n",
       "<style scoped>\n",
       "    .dataframe tbody tr th:only-of-type {\n",
       "        vertical-align: middle;\n",
       "    }\n",
       "\n",
       "    .dataframe tbody tr th {\n",
       "        vertical-align: top;\n",
       "    }\n",
       "\n",
       "    .dataframe thead th {\n",
       "        text-align: right;\n",
       "    }\n",
       "</style>\n",
       "<table border=\"1\" class=\"dataframe\">\n",
       "  <thead>\n",
       "    <tr style=\"text-align: right;\">\n",
       "      <th></th>\n",
       "      <th>user_id</th>\n",
       "      <th>site_id</th>\n",
       "      <th>int_type</th>\n",
       "      <th>created_at</th>\n",
       "      <th>updated_at</th>\n",
       "      <th>journal_oid</th>\n",
       "      <th>site_index</th>\n",
       "      <th>is_nontrivial</th>\n",
       "      <th>is_self_interaction</th>\n",
       "      <th>body_text</th>\n",
       "      <th>tokens</th>\n",
       "      <th>pred_label</th>\n",
       "      <th>pred_prob_neutral</th>\n",
       "      <th>pred_prob_supportive</th>\n",
       "      <th>support_discretized</th>\n",
       "    </tr>\n",
       "  </thead>\n",
       "  <tbody>\n",
       "    <tr>\n",
       "      <td>540271</td>\n",
       "      <td>355936</td>\n",
       "      <td>11900</td>\n",
       "      <td>guestbook</td>\n",
       "      <td>1184103659000</td>\n",
       "      <td>1184103659000</td>\n",
       "      <td></td>\n",
       "      <td>-1.0</td>\n",
       "      <td>True</td>\n",
       "      <td>False</td>\n",
       "      <td>For all the help the medical community can be,...</td>\n",
       "      <td>[For, all, the, help, the, medical, community,...</td>\n",
       "      <td>1</td>\n",
       "      <td>0.331490</td>\n",
       "      <td>0.668510</td>\n",
       "      <td>False</td>\n",
       "    </tr>\n",
       "    <tr>\n",
       "      <td>3609373</td>\n",
       "      <td>1884841</td>\n",
       "      <td>119180</td>\n",
       "      <td>guestbook</td>\n",
       "      <td>1251075969000</td>\n",
       "      <td>1251075969000</td>\n",
       "      <td></td>\n",
       "      <td>-1.0</td>\n",
       "      <td>True</td>\n",
       "      <td>False</td>\n",
       "      <td>Kylee:  I love the story.  Next time just try ...</td>\n",
       "      <td>[Kylee, :,   , I, love, the, story, .,   , Nex...</td>\n",
       "      <td>1</td>\n",
       "      <td>0.232435</td>\n",
       "      <td>0.767565</td>\n",
       "      <td>True</td>\n",
       "    </tr>\n",
       "    <tr>\n",
       "      <td>4325045</td>\n",
       "      <td>1195944</td>\n",
       "      <td>55715</td>\n",
       "      <td>guestbook</td>\n",
       "      <td>1197856577000</td>\n",
       "      <td>1197856577000</td>\n",
       "      <td></td>\n",
       "      <td>-1.0</td>\n",
       "      <td>True</td>\n",
       "      <td>False</td>\n",
       "      <td>What an honor to be the very first person to s...</td>\n",
       "      <td>[What, an, honor, to, be, the, very, first, pe...</td>\n",
       "      <td>1</td>\n",
       "      <td>0.182593</td>\n",
       "      <td>0.817407</td>\n",
       "      <td>True</td>\n",
       "    </tr>\n",
       "    <tr>\n",
       "      <td>5414881</td>\n",
       "      <td>6773640</td>\n",
       "      <td>57152</td>\n",
       "      <td>guestbook</td>\n",
       "      <td>1301181775000</td>\n",
       "      <td>1301181775000</td>\n",
       "      <td></td>\n",
       "      <td>-1.0</td>\n",
       "      <td>True</td>\n",
       "      <td>False</td>\n",
       "      <td>Home is the best place to be, think about you ...</td>\n",
       "      <td>[Home, is, the, best, place, to, be, ,, think,...</td>\n",
       "      <td>0</td>\n",
       "      <td>0.584396</td>\n",
       "      <td>0.415604</td>\n",
       "      <td>False</td>\n",
       "    </tr>\n",
       "    <tr>\n",
       "      <td>1726463</td>\n",
       "      <td>15515585</td>\n",
       "      <td>186646</td>\n",
       "      <td>guestbook</td>\n",
       "      <td>1335786062000</td>\n",
       "      <td>1335786062000</td>\n",
       "      <td></td>\n",
       "      <td>-1.0</td>\n",
       "      <td>True</td>\n",
       "      <td>False</td>\n",
       "      <td>I was reading the words - we can never go back...</td>\n",
       "      <td>[I, was, reading, the, words, -, we, can, neve...</td>\n",
       "      <td>0</td>\n",
       "      <td>0.550263</td>\n",
       "      <td>0.449737</td>\n",
       "      <td>False</td>\n",
       "    </tr>\n",
       "  </tbody>\n",
       "</table>\n",
       "</div>"
      ],
      "text/plain": [
       "          user_id  site_id   int_type     created_at     updated_at  \\\n",
       "540271     355936    11900  guestbook  1184103659000  1184103659000   \n",
       "3609373   1884841   119180  guestbook  1251075969000  1251075969000   \n",
       "4325045   1195944    55715  guestbook  1197856577000  1197856577000   \n",
       "5414881   6773640    57152  guestbook  1301181775000  1301181775000   \n",
       "1726463  15515585   186646  guestbook  1335786062000  1335786062000   \n",
       "\n",
       "        journal_oid  site_index  is_nontrivial  is_self_interaction  \\\n",
       "540271                     -1.0           True                False   \n",
       "3609373                    -1.0           True                False   \n",
       "4325045                    -1.0           True                False   \n",
       "5414881                    -1.0           True                False   \n",
       "1726463                    -1.0           True                False   \n",
       "\n",
       "                                                 body_text  \\\n",
       "540271   For all the help the medical community can be,...   \n",
       "3609373  Kylee:  I love the story.  Next time just try ...   \n",
       "4325045  What an honor to be the very first person to s...   \n",
       "5414881  Home is the best place to be, think about you ...   \n",
       "1726463  I was reading the words - we can never go back...   \n",
       "\n",
       "                                                    tokens  pred_label  \\\n",
       "540271   [For, all, the, help, the, medical, community,...           1   \n",
       "3609373  [Kylee, :,   , I, love, the, story, .,   , Nex...           1   \n",
       "4325045  [What, an, honor, to, be, the, very, first, pe...           1   \n",
       "5414881  [Home, is, the, best, place, to, be, ,, think,...           0   \n",
       "1726463  [I, was, reading, the, words, -, we, can, neve...           0   \n",
       "\n",
       "         pred_prob_neutral  pred_prob_supportive  support_discretized  \n",
       "540271            0.331490              0.668510                False  \n",
       "3609373           0.232435              0.767565                 True  \n",
       "4325045           0.182593              0.817407                 True  \n",
       "5414881           0.584396              0.415604                False  \n",
       "1726463           0.550263              0.449737                False  "
      ]
     },
     "execution_count": 4,
     "metadata": {},
     "output_type": "execute_result"
    }
   ],
   "source": [
    "gbs.head()"
   ]
  },
  {
   "cell_type": "code",
   "execution_count": 7,
   "metadata": {},
   "outputs": [],
   "source": [
    "ddf = ddf[:100]; zdf = zdf[:100]; m_scores = []; m_scores_d = []; az_scores = []; ad_scores = []; sampler = 0\n",
    "for user_id, site_id, body_text, d_score, z_score in zip(ddf.user_id, ddf.site_id, ddf.body_text, ddf.support_rating, zdf.support_rating):\n",
    "    entry = gbs[(gbs.user_id == user_id) & (gbs.site_id == site_id) & (gbs.body_text == body_text)]\n",
    "    if len(entry) != 1:\n",
    "        if len(entry) == 0:\n",
    "            sampler += 1 \n",
    "    else:\n",
    "        m_scores.extend(entry.pred_prob_supportive)\n",
    "        m_scores_d.extend(round(entry.pred_prob_supportive * 10))\n",
    "        az_scores.append(z_score); ad_scores.append(d_score)"
   ]
  },
  {
   "cell_type": "code",
   "execution_count": 8,
   "metadata": {},
   "outputs": [
    {
     "name": "stdout",
     "output_type": "stream",
     "text": [
      "[C]\n",
      " Drew: (0.5412068695678467, 0.009292572172557526)\n",
      " Zach: (0.1049563505887795, 0.6420456662020195)\n",
      "[D]\n",
      " Drew: (0.4828387936156421, 0.022838436111757964)\n",
      " Zach: (0.13737716897163188, 0.5420967196168186)\n"
     ]
    }
   ],
   "source": [
    "from scipy.stats import pearsonr\n",
    "dvm = pearsonr(ad_scores, m_scores)\n",
    "zvm = pearsonr(az_scores, m_scores)\n",
    "dvmd = pearsonr(ad_scores, m_scores_d)\n",
    "zvmd = pearsonr(az_scores, m_scores_d)\n",
    "print(f\"[C]\\n Drew: {dvm[0], dvm[1]}\\n Zach: {zvm[0], zvm[1]}\")\n",
    "print(f\"[D]\\n Drew: {dvmd[0], dvmd[1]}\\n Zach: {zvmd[0], zvmd[1]}\")"
   ]
  },
  {
   "cell_type": "code",
   "execution_count": 30,
   "metadata": {},
   "outputs": [
    {
     "data": {
      "text/plain": [
       "array([3. , 4. , 3.5, 2.5, 7. , 3. , 0.5, 3.5, 5.5, 4.5, 6.5, 6.5, 2. ,\n",
       "       3.5, 5.5, 4. , 4. , 4. , 4. , 5.5, 2.5, 5. ])"
      ]
     },
     "execution_count": 30,
     "metadata": {},
     "output_type": "execute_result"
    }
   ],
   "source": [
    "avg = np.mean(np.array([[int(x) for x in ad_scores], az_scores]), axis=0)\n",
    "avg "
   ]
  },
  {
   "cell_type": "code",
   "execution_count": 33,
   "metadata": {},
   "outputs": [
    {
     "data": {
      "text/plain": [
       "(0.4495146849468804, 0.035829019621099516)"
      ]
     },
     "execution_count": 33,
     "metadata": {},
     "output_type": "execute_result"
    }
   ],
   "source": [
    "pearsonr(avg, m_scores)"
   ]
  },
  {
   "cell_type": "code",
   "execution_count": null,
   "metadata": {},
   "outputs": [],
   "source": []
  }
 ],
 "metadata": {
  "kernelspec": {
   "display_name": "Python (shared-conda)",
   "language": "python",
   "name": "shared-conda"
  },
  "language_info": {
   "codemirror_mode": {
    "name": "ipython",
    "version": 3
   },
   "file_extension": ".py",
   "mimetype": "text/x-python",
   "name": "python",
   "nbconvert_exporter": "python",
   "pygments_lexer": "ipython3",
   "version": "3.7.3"
  }
 },
 "nbformat": 4,
 "nbformat_minor": 2
}
