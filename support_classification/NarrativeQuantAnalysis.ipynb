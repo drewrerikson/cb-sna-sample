{
 "cells": [
  {
   "cell_type": "markdown",
   "metadata": {},
   "source": [
    "# Support Proxy Quantitative Analysis\n",
    "What kind of conclusions can we draw from/into the CSCW work involving our meaningful support classifier?"
   ]
  },
  {
   "cell_type": "code",
   "execution_count": 10,
   "metadata": {},
   "outputs": [],
   "source": [
    "%matplotlib inline\n",
    "\n",
    "from pathlib import Path\n",
    "import os\n",
    "import subprocess\n",
    "\n",
    "import pandas as pd\n",
    "import numpy as np\n",
    "\n",
    "from collections import Counter\n",
    "from tqdm import tqdm\n",
    "\n",
    "import matplotlib.pyplot as plt\n",
    "import matplotlib.dates as md\n",
    "import matplotlib\n",
    "import pylab as pl\n",
    "\n",
    "import sklearn\n",
    "import sklearn.model_selection\n",
    "import sklearn.linear_model\n",
    "from sklearn.feature_extraction.text import CountVectorizer, TfidfTransformer\n",
    "from sklearn.pipeline import Pipeline"
   ]
  },
  {
   "cell_type": "code",
   "execution_count": 11,
   "metadata": {},
   "outputs": [
    {
     "data": {
      "text/plain": [
       "340414"
      ]
     },
     "execution_count": 11,
     "metadata": {},
     "output_type": "execute_result"
    }
   ],
   "source": [
    "author_type_dir = \"/home/lana/shared/caringbridge/data/projects/sna-social-support/author_type\"\n",
    "support_m_dir = \"/home/lana/shared/caringbridge/data/projects/sna-social-support/support_modeling\"\n",
    "site_patient_proportions_filepath = os.path.join(author_type_dir, 'site_patient_proportions.df')\n",
    "site_author_type_df = pd.read_feather(site_patient_proportions_filepath)\n",
    "len(site_author_type_df)"
   ]
  },
  {
   "cell_type": "code",
   "execution_count": 12,
   "metadata": {},
   "outputs": [],
   "source": [
    "site_to_type = {x: y for x, y in zip(site_author_type_df.site_id, site_author_type_df.site_author_type)}"
   ]
  },
  {
   "cell_type": "code",
   "execution_count": 13,
   "metadata": {},
   "outputs": [],
   "source": [
    "def I(x):\n",
    "    return x"
   ]
  },
  {
   "cell_type": "code",
   "execution_count": 14,
   "metadata": {},
   "outputs": [],
   "source": [
    "import joblib\n",
    "\n",
    "model = joblib.load(os.path.join(support_m_dir, \"support_classifier.sav\"))"
   ]
  },
  {
   "cell_type": "code",
   "execution_count": 15,
   "metadata": {},
   "outputs": [],
   "source": [
    "# = pd.read_hdf(os.path.join(support_m_dir, \"tokenized_for_bf.h5\"))"
   ]
  },
  {
   "cell_type": "code",
   "execution_count": 16,
   "metadata": {},
   "outputs": [],
   "source": [
    "import spacy\n",
    "nlp = spacy.load('en_core_web_lg')\n",
    "output_data_dir = \"/home/lana/shared/caringbridge/data/projects/sna-social-support/support_modeling\""
   ]
  },
  {
   "cell_type": "code",
   "execution_count": 17,
   "metadata": {},
   "outputs": [
    {
     "name": "stderr",
     "output_type": "stream",
     "text": [
      "100%|██████████| 1000000/1000000 [2:47:44<00:00, 99.36it/s]   \n"
     ]
    }
   ],
   "source": [
    "gbs = pd.read_hdf('pbs/with_text_for_classify.h5')\n",
    "gbs = gbs.sample(n=1000000)\n",
    "\n",
    "tokens = []\n",
    "for doc in tqdm(nlp.pipe([x if x != None else \"\" for x in gbs.body_text], batch_size=20000, n_threads=16), total=len(gbs), position=False):\n",
    "    tokens.append([token.text for token in doc])\n",
    "gbs['tokens'] = tokens\n",
    "\n",
    "gbs['tokens'] = gbs['tokens'].map(list)\n",
    "gbs['body_text'] = gbs['body_text'].map(str)\n",
    "gbs['int_type'] = gbs['int_type'].map(str)\n",
    "gbs['journal_oid'] = gbs['journal_oid'].map(str)"
   ]
  },
  {
   "cell_type": "code",
   "execution_count": 18,
   "metadata": {},
   "outputs": [
    {
     "data": {
      "text/html": [
       "<div>\n",
       "<style scoped>\n",
       "    .dataframe tbody tr th:only-of-type {\n",
       "        vertical-align: middle;\n",
       "    }\n",
       "\n",
       "    .dataframe tbody tr th {\n",
       "        vertical-align: top;\n",
       "    }\n",
       "\n",
       "    .dataframe thead th {\n",
       "        text-align: right;\n",
       "    }\n",
       "</style>\n",
       "<table border=\"1\" class=\"dataframe\">\n",
       "  <thead>\n",
       "    <tr style=\"text-align: right;\">\n",
       "      <th></th>\n",
       "      <th>user_id</th>\n",
       "      <th>site_id</th>\n",
       "      <th>int_type</th>\n",
       "      <th>created_at</th>\n",
       "      <th>updated_at</th>\n",
       "      <th>body_text</th>\n",
       "      <th>tokens</th>\n",
       "      <th>type_label</th>\n",
       "    </tr>\n",
       "  </thead>\n",
       "  <tbody>\n",
       "    <tr>\n",
       "      <td>839347</td>\n",
       "      <td>3615759</td>\n",
       "      <td>151556</td>\n",
       "      <td>guestbook</td>\n",
       "      <td>1340119080000</td>\n",
       "      <td>1340119080000</td>\n",
       "      <td>Positive thoughts beaming your way!  Remember ...</td>\n",
       "      <td>[Positive, thoughts, beaming, your, way, !,   ...</td>\n",
       "      <td>cg</td>\n",
       "    </tr>\n",
       "    <tr>\n",
       "      <td>3673303</td>\n",
       "      <td>3463645</td>\n",
       "      <td>122845</td>\n",
       "      <td>guestbook</td>\n",
       "      <td>1246020190000</td>\n",
       "      <td>1246020190000</td>\n",
       "      <td>Good Morning!  Couldn't resist sending you tod...</td>\n",
       "      <td>[Good, Morning, !,  , Could, n't, resist, send...</td>\n",
       "      <td>p</td>\n",
       "    </tr>\n",
       "    <tr>\n",
       "      <td>1137246</td>\n",
       "      <td>3295808</td>\n",
       "      <td>26118</td>\n",
       "      <td>guestbook</td>\n",
       "      <td>1255373120000</td>\n",
       "      <td>1255373120000</td>\n",
       "      <td>Continuing to keep your sweet family in our pr...</td>\n",
       "      <td>[Continuing, to, keep, your, sweet, family, in...</td>\n",
       "      <td>cg</td>\n",
       "    </tr>\n",
       "    <tr>\n",
       "      <td>2467219</td>\n",
       "      <td>625169</td>\n",
       "      <td>219257</td>\n",
       "      <td>guestbook</td>\n",
       "      <td>1300039800000</td>\n",
       "      <td>1300039800000</td>\n",
       "      <td>Sounds as if this is a tough time. Bah! So sor...</td>\n",
       "      <td>[Sounds, as, if, this, is, a, tough, time, ., ...</td>\n",
       "      <td>cg</td>\n",
       "    </tr>\n",
       "    <tr>\n",
       "      <td>1100586</td>\n",
       "      <td>6388343</td>\n",
       "      <td>161478</td>\n",
       "      <td>guestbook</td>\n",
       "      <td>1325787795000</td>\n",
       "      <td>1325787795000</td>\n",
       "      <td>stupid fact of the day. \\n\\n\\n Swedish fish ar...</td>\n",
       "      <td>[stupid, fact, of, the, day, ., \\n\\n\\n , Swedi...</td>\n",
       "      <td>cg</td>\n",
       "    </tr>\n",
       "  </tbody>\n",
       "</table>\n",
       "</div>"
      ],
      "text/plain": [
       "         user_id  site_id   int_type     created_at     updated_at  \\\n",
       "839347   3615759   151556  guestbook  1340119080000  1340119080000   \n",
       "3673303  3463645   122845  guestbook  1246020190000  1246020190000   \n",
       "1137246  3295808    26118  guestbook  1255373120000  1255373120000   \n",
       "2467219   625169   219257  guestbook  1300039800000  1300039800000   \n",
       "1100586  6388343   161478  guestbook  1325787795000  1325787795000   \n",
       "\n",
       "                                                 body_text  \\\n",
       "839347   Positive thoughts beaming your way!  Remember ...   \n",
       "3673303  Good Morning!  Couldn't resist sending you tod...   \n",
       "1137246  Continuing to keep your sweet family in our pr...   \n",
       "2467219  Sounds as if this is a tough time. Bah! So sor...   \n",
       "1100586  stupid fact of the day. \\n\\n\\n Swedish fish ar...   \n",
       "\n",
       "                                                    tokens type_label  \n",
       "839347   [Positive, thoughts, beaming, your, way, !,   ...         cg  \n",
       "3673303  [Good, Morning, !,  , Could, n't, resist, send...          p  \n",
       "1137246  [Continuing, to, keep, your, sweet, family, in...         cg  \n",
       "2467219  [Sounds, as, if, this, is, a, tough, time, ., ...         cg  \n",
       "1100586  [stupid, fact, of, the, day, ., \\n\\n\\n , Swedi...         cg  "
      ]
     },
     "execution_count": 18,
     "metadata": {},
     "output_type": "execute_result"
    }
   ],
   "source": [
    "ready = gbs\n",
    "ready['type_label'] = [site_to_type[x] for x in ready.site_id]\n",
    "labeled = ready.drop(['journal_oid', 'site_index', 'is_nontrivial', 'is_self_interaction'], axis=1)\n",
    "labeled.head()"
   ]
  },
  {
   "cell_type": "code",
   "execution_count": 21,
   "metadata": {},
   "outputs": [],
   "source": [
    "labeled['support'] = model.predict_proba(labeled.tokens)[:,1]"
   ]
  },
  {
   "cell_type": "code",
   "execution_count": 22,
   "metadata": {},
   "outputs": [],
   "source": [
    "labeled['is_supportive'] = model.predict(labeled.tokens)"
   ]
  },
  {
   "cell_type": "code",
   "execution_count": 23,
   "metadata": {},
   "outputs": [
    {
     "data": {
      "text/plain": [
       "0.603578911975522"
      ]
     },
     "execution_count": 23,
     "metadata": {},
     "output_type": "execute_result"
    }
   ],
   "source": [
    "np.mean(labeled[labeled['type_label'] == 'cg']['support'])"
   ]
  },
  {
   "cell_type": "code",
   "execution_count": 24,
   "metadata": {},
   "outputs": [
    {
     "data": {
      "text/plain": [
       "0.6170488474714116"
      ]
     },
     "execution_count": 24,
     "metadata": {},
     "output_type": "execute_result"
    }
   ],
   "source": [
    "np.mean(labeled[labeled['type_label'] == 'p']['support'])"
   ]
  },
  {
   "cell_type": "code",
   "execution_count": 25,
   "metadata": {},
   "outputs": [
    {
     "data": {
      "text/plain": [
       "0.023340348768257833"
      ]
     },
     "execution_count": 25,
     "metadata": {},
     "output_type": "execute_result"
    }
   ],
   "source": [
    "np.var(labeled[labeled['type_label'] == 'cg']['support'])"
   ]
  },
  {
   "cell_type": "code",
   "execution_count": 26,
   "metadata": {},
   "outputs": [
    {
     "data": {
      "text/plain": [
       "0.02194868979981834"
      ]
     },
     "execution_count": 26,
     "metadata": {},
     "output_type": "execute_result"
    }
   ],
   "source": [
    "np.var(labeled[labeled['type_label'] == 'p']['support'])"
   ]
  },
  {
   "cell_type": "code",
   "execution_count": 41,
   "metadata": {},
   "outputs": [
    {
     "name": "stderr",
     "output_type": "stream",
     "text": [
      "/home/srivbane/shared/anaconda3/lib/python3.7/site-packages/pandas/core/generic.py:2530: PerformanceWarning: \n",
      "your performance may suffer as PyTables will pickle object types that it cannot\n",
      "map directly to c-types [inferred_type->mixed,key->block2_values] [items->['int_type', 'body_text', 'tokens', 'type_label']]\n",
      "\n",
      "  pytables.to_hdf(path_or_buf, key, self, **kwargs)\n"
     ]
    }
   ],
   "source": [
    "labeled.to_hdf(os.path.join(support_m_dir, \"classified_sample.h5\"), key='labeled')"
   ]
  },
  {
   "cell_type": "code",
   "execution_count": 58,
   "metadata": {},
   "outputs": [
    {
     "data": {
      "text/plain": [
       "Text(0.5, 1.0, 'Support')"
      ]
     },
     "execution_count": 58,
     "metadata": {},
     "output_type": "execute_result"
    },
    {
     "data": {
      "image/png": "[encoded data removed]",
      "text/plain": [
       "<Figure size 432x288 with 1 Axes>"
      ]
     },
     "metadata": {
      "needs_background": "light"
     },
     "output_type": "display_data"
    }
   ],
   "source": [
    "import matplotlib.pyplot as mpl\n",
    "fig, axes = mpl.subplots(1)\n",
    "axes.hist(labeled[labeled['type_label'] == 'cg']['support'], bins=100, color=(0,1,0,.6))\n",
    "axes.hist(labeled[labeled['type_label'] == 'p']['support'], bins=100, color=(0,0,1,.6))\n",
    "axes.set_title(\"Support\")"
   ]
  },
  {
   "cell_type": "code",
   "execution_count": 27,
   "metadata": {},
   "outputs": [
    {
     "data": {
      "text/plain": [
       "(0.7249161003279541, 0.7685520668264598)"
      ]
     },
     "execution_count": 27,
     "metadata": {},
     "output_type": "execute_result"
    }
   ],
   "source": [
    "np.mean(labeled[labeled['type_label'] == 'cg']['is_supportive']), np.mean(labeled[labeled['type_label'] == 'p']['is_supportive'])"
   ]
  },
  {
   "cell_type": "code",
   "execution_count": 37,
   "metadata": {},
   "outputs": [],
   "source": [
    "s = labeled.sample(n=100)"
   ]
  },
  {
   "cell_type": "code",
   "execution_count": 38,
   "metadata": {},
   "outputs": [
    {
     "data": {
      "text/plain": [
       "Counter({'cg': 81, 'p': 13, 'mixed': 6})"
      ]
     },
     "execution_count": 38,
     "metadata": {},
     "output_type": "execute_result"
    }
   ],
   "source": [
    "Counter(s.type_label)"
   ]
  },
  {
   "cell_type": "code",
   "execution_count": 40,
   "metadata": {},
   "outputs": [
    {
     "data": {
      "text/html": [
       "<div>\n",
       "<style scoped>\n",
       "    .dataframe tbody tr th:only-of-type {\n",
       "        vertical-align: middle;\n",
       "    }\n",
       "\n",
       "    .dataframe tbody tr th {\n",
       "        vertical-align: top;\n",
       "    }\n",
       "\n",
       "    .dataframe thead th {\n",
       "        text-align: right;\n",
       "    }\n",
       "</style>\n",
       "<table border=\"1\" class=\"dataframe\">\n",
       "  <thead>\n",
       "    <tr style=\"text-align: right;\">\n",
       "      <th></th>\n",
       "      <th>body_text</th>\n",
       "      <th>type_label</th>\n",
       "      <th>support</th>\n",
       "    </tr>\n",
       "  </thead>\n",
       "  <tbody>\n",
       "    <tr>\n",
       "      <td>4631181</td>\n",
       "      <td>Camp Carefly sounds wonderful.  I am so glad y...</td>\n",
       "      <td>cg</td>\n",
       "      <td>0.576127</td>\n",
       "    </tr>\n",
       "    <tr>\n",
       "      <td>4849893</td>\n",
       "      <td>Holly,\\nI was able to talk with your mom brief...</td>\n",
       "      <td>cg</td>\n",
       "      <td>0.565911</td>\n",
       "    </tr>\n",
       "    <tr>\n",
       "      <td>129226</td>\n",
       "      <td>So happy to hear the great news!! I hope Abby ...</td>\n",
       "      <td>cg</td>\n",
       "      <td>0.681990</td>\n",
       "    </tr>\n",
       "    <tr>\n",
       "      <td>5020986</td>\n",
       "      <td>Man it's nice to read that things are going so...</td>\n",
       "      <td>cg</td>\n",
       "      <td>0.462318</td>\n",
       "    </tr>\n",
       "    <tr>\n",
       "      <td>5167191</td>\n",
       "      <td>Very interesting updates - regards to Jeff.</td>\n",
       "      <td>p</td>\n",
       "      <td>0.499120</td>\n",
       "    </tr>\n",
       "    <tr>\n",
       "      <td>...</td>\n",
       "      <td>...</td>\n",
       "      <td>...</td>\n",
       "      <td>...</td>\n",
       "    </tr>\n",
       "    <tr>\n",
       "      <td>1725666</td>\n",
       "      <td>Bryan and Rachel,\\n\\nFirst of all thank you fo...</td>\n",
       "      <td>cg</td>\n",
       "      <td>0.439437</td>\n",
       "    </tr>\n",
       "    <tr>\n",
       "      <td>2432748</td>\n",
       "      <td>Sending love&lt;3</td>\n",
       "      <td>cg</td>\n",
       "      <td>0.475849</td>\n",
       "    </tr>\n",
       "    <tr>\n",
       "      <td>5624569</td>\n",
       "      <td>Praying...and loving camp crazy. &amp;nbsp;Keep th...</td>\n",
       "      <td>cg</td>\n",
       "      <td>0.862441</td>\n",
       "    </tr>\n",
       "    <tr>\n",
       "      <td>4928846</td>\n",
       "      <td>It looks like you guys will still be there on ...</td>\n",
       "      <td>cg</td>\n",
       "      <td>0.466292</td>\n",
       "    </tr>\n",
       "    <tr>\n",
       "      <td>5273549</td>\n",
       "      <td>Hi Matthew \\n\\nI just stopped in to say hello ...</td>\n",
       "      <td>cg</td>\n",
       "      <td>0.478942</td>\n",
       "    </tr>\n",
       "  </tbody>\n",
       "</table>\n",
       "<p>100 rows × 3 columns</p>\n",
       "</div>"
      ],
      "text/plain": [
       "                                                 body_text type_label  \\\n",
       "4631181  Camp Carefly sounds wonderful.  I am so glad y...         cg   \n",
       "4849893  Holly,\\nI was able to talk with your mom brief...         cg   \n",
       "129226   So happy to hear the great news!! I hope Abby ...         cg   \n",
       "5020986  Man it's nice to read that things are going so...         cg   \n",
       "5167191        Very interesting updates - regards to Jeff.          p   \n",
       "...                                                    ...        ...   \n",
       "1725666  Bryan and Rachel,\\n\\nFirst of all thank you fo...         cg   \n",
       "2432748                                     Sending love<3         cg   \n",
       "5624569  Praying...and loving camp crazy. &nbsp;Keep th...         cg   \n",
       "4928846  It looks like you guys will still be there on ...         cg   \n",
       "5273549  Hi Matthew \\n\\nI just stopped in to say hello ...         cg   \n",
       "\n",
       "          support  \n",
       "4631181  0.576127  \n",
       "4849893  0.565911  \n",
       "129226   0.681990  \n",
       "5020986  0.462318  \n",
       "5167191  0.499120  \n",
       "...           ...  \n",
       "1725666  0.439437  \n",
       "2432748  0.475849  \n",
       "5624569  0.862441  \n",
       "4928846  0.466292  \n",
       "5273549  0.478942  \n",
       "\n",
       "[100 rows x 3 columns]"
      ]
     },
     "execution_count": 40,
     "metadata": {},
     "output_type": "execute_result"
    }
   ],
   "source": [
    "s[['body_text', 'type_label', 'support']]"
   ]
  },
  {
   "cell_type": "code",
   "execution_count": 42,
   "metadata": {},
   "outputs": [],
   "source": [
    "s.to_csv(\"intension_annotations.csv\")"
   ]
  },
  {
   "cell_type": "code",
   "execution_count": null,
   "metadata": {},
   "outputs": [],
   "source": []
  }
 ],
 "metadata": {
  "kernelspec": {
   "display_name": "Python (shared-conda)",
   "language": "python",
   "name": "shared-conda"
  },
  "language_info": {
   "codemirror_mode": {
    "name": "ipython",
    "version": 3
   },
   "file_extension": ".py",
   "mimetype": "text/x-python",
   "name": "python",
   "nbconvert_exporter": "python",
   "pygments_lexer": "ipython3",
   "version": "3.7.3"
  }
 },
 "nbformat": 4,
 "nbformat_minor": 2
}
