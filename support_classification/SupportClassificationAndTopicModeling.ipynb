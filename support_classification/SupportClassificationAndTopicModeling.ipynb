{
 "cells": [
  {
   "cell_type": "markdown",
   "metadata": {},
   "source": [
    "Support Classification & Topic Modeling\n",
    "===\n",
    "\n",
    "Jurgens Project site: https://blablablab.si.umich.edu/projects/support/\n",
    "\n",
    "Jurgens Paper: https://www.aclweb.org/anthology/D18-1004"
   ]
  },
  {
   "cell_type": "code",
   "execution_count": 1,
   "metadata": {},
   "outputs": [],
   "source": [
    "%matplotlib inline\n",
    "\n",
    "from pathlib import Path\n",
    "import os\n",
    "import subprocess\n",
    "\n",
    "import pandas as pd\n",
    "import numpy as np\n",
    "\n",
    "from collections import Counter\n",
    "from tqdm import tqdm\n",
    "\n",
    "import matplotlib.pyplot as plt\n",
    "import matplotlib.dates as md\n",
    "import matplotlib\n",
    "import pylab as pl\n",
    "from IPython.core.display import display, HTML\n",
    "\n",
    "import sklearn\n",
    "import sklearn.model_selection\n",
    "import sklearn.linear_model\n",
    "from sklearn.feature_extraction.text import CountVectorizer, TfidfTransformer\n",
    "from sklearn.pipeline import Pipeline\n",
    "\n",
    "import spacy\n",
    "\n",
    "import pyLDAvis\n",
    "import pyLDAvis.gensim"
   ]
  },
  {
   "cell_type": "markdown",
   "metadata": {},
   "source": [
    "### Training & Annotation Data\n",
    "On new machines, run `download_support_annotations.sh` and download `github.com/davidjurgens/support/blob/master/data/training-data.with-ids.tsv`."
   ]
  },
  {
   "cell_type": "code",
   "execution_count": 3,
   "metadata": {},
   "outputs": [],
   "source": [
    "# get data\n",
    "git_root_dir = !git rev-parse --show-toplevel\n",
    "git_root_dir = Path(git_root_dir[0].strip())\n",
    "data_dir = git_root_dir / 'support_classification' / 'data'\n",
    "crowdflower_support_annotations_file = data_dir / 'crowdflower-support-annotations.csv'\n",
    "training_data_file = data_dir / 'training-data.with-ids.tsv'\n",
    "assert data_dir.exists() and crowdflower_support_annotations_file.exists() and training_data_file.exists() "
   ]
  },
  {
   "cell_type": "code",
   "execution_count": 5,
   "metadata": {},
   "outputs": [
    {
     "data": {
      "text/plain": [
       "9030"
      ]
     },
     "execution_count": 5,
     "metadata": {},
     "output_type": "execute_result"
    }
   ],
   "source": [
    "df = pd.read_csv(training_data_file, sep='\\t')\n",
    "len(df)"
   ]
  },
  {
   "cell_type": "code",
   "execution_count": 6,
   "metadata": {},
   "outputs": [
    {
     "data": {
      "text/html": [
       "<div>\n",
       "<style scoped>\n",
       "    .dataframe tbody tr th:only-of-type {\n",
       "        vertical-align: middle;\n",
       "    }\n",
       "\n",
       "    .dataframe tbody tr th {\n",
       "        vertical-align: top;\n",
       "    }\n",
       "\n",
       "    .dataframe thead th {\n",
       "        text-align: right;\n",
       "    }\n",
       "</style>\n",
       "<table border=\"1\" class=\"dataframe\">\n",
       "  <thead>\n",
       "    <tr style=\"text-align: right;\">\n",
       "      <th></th>\n",
       "      <th>agreement</th>\n",
       "      <th>offensiveness</th>\n",
       "      <th>politeness</th>\n",
       "      <th>support</th>\n",
       "      <th>post</th>\n",
       "      <th>reply</th>\n",
       "      <th>post_id</th>\n",
       "      <th>reply_id</th>\n",
       "      <th>source</th>\n",
       "      <th>platform</th>\n",
       "    </tr>\n",
       "  </thead>\n",
       "  <tbody>\n",
       "    <tr>\n",
       "      <td>0</td>\n",
       "      <td>3.000000</td>\n",
       "      <td>1.000000</td>\n",
       "      <td>3.000000</td>\n",
       "      <td>3.000000</td>\n",
       "      <td>Well that didnt take long</td>\n",
       "      <td>What didnt?</td>\n",
       "      <td>cj4hzgi</td>\n",
       "      <td>cj4i1cc</td>\n",
       "      <td>reddit-worldnews-2014</td>\n",
       "      <td>reddit</td>\n",
       "    </tr>\n",
       "    <tr>\n",
       "      <td>1</td>\n",
       "      <td>3.000000</td>\n",
       "      <td>1.333333</td>\n",
       "      <td>3.333333</td>\n",
       "      <td>3.000000</td>\n",
       "      <td>Im always amused when Im flying home and there...</td>\n",
       "      <td>and what people think is Vegas is really Paradise</td>\n",
       "      <td>csvv5j9</td>\n",
       "      <td>csvy89s</td>\n",
       "      <td>reddit-pics-2015</td>\n",
       "      <td>reddit</td>\n",
       "    </tr>\n",
       "    <tr>\n",
       "      <td>2</td>\n",
       "      <td>2.333333</td>\n",
       "      <td>1.000000</td>\n",
       "      <td>3.000000</td>\n",
       "      <td>3.000000</td>\n",
       "      <td>There was no absence of regulation back then, ...</td>\n",
       "      <td>Which back when? Im no ballerina but I dont th...</td>\n",
       "      <td>cswfklp</td>\n",
       "      <td>cswktwq</td>\n",
       "      <td>reddit-todayilearned-2015</td>\n",
       "      <td>reddit</td>\n",
       "    </tr>\n",
       "    <tr>\n",
       "      <td>3</td>\n",
       "      <td>4.333333</td>\n",
       "      <td>3.000000</td>\n",
       "      <td>2.000000</td>\n",
       "      <td>3.666667</td>\n",
       "      <td>**YEA** but he had calvin johnson so that mean...</td>\n",
       "      <td>EXACTLY!    To all the Bears fans who say this...</td>\n",
       "      <td>c5c1eur</td>\n",
       "      <td>c5c1q9f</td>\n",
       "      <td>reddit-nfl-2012</td>\n",
       "      <td>reddit</td>\n",
       "    </tr>\n",
       "    <tr>\n",
       "      <td>4</td>\n",
       "      <td>3.000000</td>\n",
       "      <td>3.000000</td>\n",
       "      <td>2.333333</td>\n",
       "      <td>3.000000</td>\n",
       "      <td>Maybe it shouldnt be as easy as Arya made it seem</td>\n",
       "      <td>well when you have magical face changing power...</td>\n",
       "      <td>dkbgylh</td>\n",
       "      <td>dkbhbxt</td>\n",
       "      <td>reddit-asoiaf-2017</td>\n",
       "      <td>reddit</td>\n",
       "    </tr>\n",
       "  </tbody>\n",
       "</table>\n",
       "</div>"
      ],
      "text/plain": [
       "   agreement  offensiveness  politeness   support  \\\n",
       "0   3.000000       1.000000    3.000000  3.000000   \n",
       "1   3.000000       1.333333    3.333333  3.000000   \n",
       "2   2.333333       1.000000    3.000000  3.000000   \n",
       "3   4.333333       3.000000    2.000000  3.666667   \n",
       "4   3.000000       3.000000    2.333333  3.000000   \n",
       "\n",
       "                                                post  \\\n",
       "0                          Well that didnt take long   \n",
       "1  Im always amused when Im flying home and there...   \n",
       "2  There was no absence of regulation back then, ...   \n",
       "3  **YEA** but he had calvin johnson so that mean...   \n",
       "4  Maybe it shouldnt be as easy as Arya made it seem   \n",
       "\n",
       "                                               reply  post_id reply_id  \\\n",
       "0                                        What didnt?  cj4hzgi  cj4i1cc   \n",
       "1  and what people think is Vegas is really Paradise  csvv5j9  csvy89s   \n",
       "2  Which back when? Im no ballerina but I dont th...  cswfklp  cswktwq   \n",
       "3  EXACTLY!    To all the Bears fans who say this...  c5c1eur  c5c1q9f   \n",
       "4  well when you have magical face changing power...  dkbgylh  dkbhbxt   \n",
       "\n",
       "                      source platform  \n",
       "0      reddit-worldnews-2014   reddit  \n",
       "1           reddit-pics-2015   reddit  \n",
       "2  reddit-todayilearned-2015   reddit  \n",
       "3            reddit-nfl-2012   reddit  \n",
       "4         reddit-asoiaf-2017   reddit  "
      ]
     },
     "execution_count": 6,
     "metadata": {},
     "output_type": "execute_result"
    }
   ],
   "source": [
    "df.head()"
   ]
  },
  {
   "cell_type": "code",
   "execution_count": 7,
   "metadata": {},
   "outputs": [
    {
     "data": {
      "text/plain": [
       "[('reddit', 3015), ('stackexchange', 3013), ('wiki', 2996), ('?', 6)]"
      ]
     },
     "execution_count": 7,
     "metadata": {},
     "output_type": "execute_result"
    }
   ],
   "source": [
    "Counter(df.platform).most_common()"
   ]
  },
  {
   "cell_type": "code",
   "execution_count": 8,
   "metadata": {},
   "outputs": [
    {
     "data": {
      "text/plain": [
       "[('reddit', 3015),\n",
       " ('stackexchange', 3013),\n",
       " ('wikin', 1652),\n",
       " ('wiki', 1344),\n",
       " ('?', 6)]"
      ]
     },
     "execution_count": 8,
     "metadata": {},
     "output_type": "execute_result"
    }
   ],
   "source": [
    "Counter([str(source).split(\"-\")[0] for source in df.source]).most_common()"
   ]
  },
  {
   "cell_type": "code",
   "execution_count": 9,
   "metadata": {},
   "outputs": [],
   "source": [
    "df['source_site'] = [str(source).split(\"-\")[0] for source in df.source]"
   ]
  },
  {
   "cell_type": "code",
   "execution_count": 10,
   "metadata": {},
   "outputs": [
    {
     "data": {
      "text/plain": [
       "[(3.0, 3787),\n",
       " (3.33333333333, 1823),\n",
       " (2.66666666667, 1448),\n",
       " (3.66666666667, 738),\n",
       " (2.33333333333, 577),\n",
       " (4.0, 303),\n",
       " (2.0, 175),\n",
       " (4.33333333333, 72),\n",
       " (1.6666666666699999, 68),\n",
       " (1.33333333333, 20),\n",
       " (4.66666666667, 11),\n",
       " (1.0, 4),\n",
       " (5.0, 2),\n",
       " (2.75, 1),\n",
       " (3.5, 1)]"
      ]
     },
     "execution_count": 10,
     "metadata": {},
     "output_type": "execute_result"
    }
   ],
   "source": [
    "Counter(df.support).most_common()"
   ]
  },
  {
   "cell_type": "code",
   "execution_count": 11,
   "metadata": {},
   "outputs": [
    {
     "data": {
      "image/png": "[encoded data removed]",
      "text/plain": [
       "<Figure size 432x288 with 1 Axes>"
      ]
     },
     "metadata": {
      "needs_background": "light"
     },
     "output_type": "display_data"
    }
   ],
   "source": [
    "xs = []\n",
    "labels = []\n",
    "for platform in set(df.platform):\n",
    "    if platform == '?':\n",
    "        continue\n",
    "    x = df[df.platform == platform].support\n",
    "    xs.append(x)\n",
    "    labels.append(platform)\n",
    "plt.hist(xs, label=labels, align='left')\n",
    "plt.legend()\n",
    "plt.title(\"Average support scores by platform\")\n",
    "plt.show()"
   ]
  },
  {
   "cell_type": "markdown",
   "metadata": {},
   "source": [
    "### Preprocessing with Spacy\n",
    "Only run commented on new machines; training data is already pre-processed in the `data` dir otherwise."
   ]
  },
  {
   "cell_type": "code",
   "execution_count": 12,
   "metadata": {},
   "outputs": [
    {
     "name": "stdout",
     "output_type": "stream",
     "text": [
      "CPU times: user 8.3 s, sys: 988 ms, total: 9.29 s\n",
      "Wall time: 9.28 s\n"
     ]
    }
   ],
   "source": [
    "%%time\n",
    "nlp = spacy.load('en_core_web_lg')"
   ]
  },
  {
   "cell_type": "code",
   "execution_count": 13,
   "metadata": {},
   "outputs": [],
   "source": [
    "#tokens = []\n",
    "#embedding = []\n",
    "#for doc in tqdm(nlp.pipe(df.reply, batch_size=1000, n_threads=3)):\n",
    "#    tokens.append([token.text for token in doc])\n",
    "#    embedding.append(doc.vector)"
   ]
  },
  {
   "cell_type": "code",
   "execution_count": 14,
   "metadata": {},
   "outputs": [],
   "source": [
    "#df['tokens'] = tokens\n",
    "#df['embedding'] = embedding\n",
    "#df.reset_index(inplace=True)"
   ]
  },
  {
   "cell_type": "code",
   "execution_count": 15,
   "metadata": {},
   "outputs": [],
   "source": [
    "#df.to_pickle(data_dir / 'tokenized_training.pkl')"
   ]
  },
  {
   "cell_type": "code",
   "execution_count": 16,
   "metadata": {},
   "outputs": [
    {
     "data": {
      "text/plain": [
       "9030"
      ]
     },
     "execution_count": 16,
     "metadata": {},
     "output_type": "execute_result"
    }
   ],
   "source": [
    "df = pd.read_pickle(data_dir / 'tokenized_training.pkl')\n",
    "len(df)"
   ]
  },
  {
   "cell_type": "code",
   "execution_count": 17,
   "metadata": {},
   "outputs": [
    {
     "data": {
      "text/plain": [
       "0                                   [What, did, nt, ?]\n",
       "1    [and, what, people, think, is, Vegas, is, real...\n",
       "2    [Which, back, when, ?, I, m, no, ballerina, bu...\n",
       "3    [EXACTLY, !,    , To, all, the, Bears, fans, w...\n",
       "4    [well, when, you, have, magical, face, changin...\n",
       "Name: tokens, dtype: object"
      ]
     },
     "execution_count": 17,
     "metadata": {},
     "output_type": "execute_result"
    }
   ],
   "source": [
    "df.tokens.head()"
   ]
  },
  {
   "cell_type": "code",
   "execution_count": 18,
   "metadata": {},
   "outputs": [
    {
     "data": {
      "text/plain": [
       "0    [-0.06969675, 0.21982999, -0.07316275, -0.4447...\n",
       "1    [-0.091369994, 0.31280944, -0.14858837, -0.336...\n",
       "2    [0.09055326, 0.109529115, -0.13828273, -0.1614...\n",
       "3    [-0.064493835, 0.20588325, -0.17942156, -0.104...\n",
       "4    [-0.097393975, 0.14301756, -0.20241255, -0.029...\n",
       "Name: embedding, dtype: object"
      ]
     },
     "execution_count": 18,
     "metadata": {},
     "output_type": "execute_result"
    }
   ],
   "source": [
    "df.embedding.head()"
   ]
  },
  {
   "cell_type": "markdown",
   "metadata": {},
   "source": [
    "### Classification with VW\n",
    "#### Tune the Model"
   ]
  },
  {
   "cell_type": "code",
   "execution_count": 11,
   "metadata": {},
   "outputs": [],
   "source": [
    "def map_support_to_label(support):\n",
    "    if support <= -0.67:\n",
    "        return 1  # Unsupportive\n",
    "    elif support >= 0.67:\n",
    "        return 3  # Supportive\n",
    "    else:\n",
    "        return 2  # Neutral\n",
    "\n",
    "def map_support_to_binary_label(support):\n",
    "    # Assign positive if between 1 and 2\n",
    "    if support > 0.67:\n",
    "        return 1\n",
    "    else:\n",
    "        return 0"
   ]
  },
  {
   "cell_type": "code",
   "execution_count": 20,
   "metadata": {},
   "outputs": [],
   "source": [
    "# shuffle the data\n",
    "df = df.sample(frac=1).reset_index(drop=True)"
   ]
  },
  {
   "cell_type": "code",
   "execution_count": 21,
   "metadata": {},
   "outputs": [
    {
     "data": {
      "text/plain": [
       "dict_items([(2, 8375), (3, 388), (1, 267)])"
      ]
     },
     "execution_count": 21,
     "metadata": {},
     "output_type": "execute_result"
    }
   ],
   "source": [
    "# add discretized support label to the data\n",
    "df['support_discretized'] = [map_support_to_label(s - 3) for s in df.support]\n",
    "Counter(df.support_discretized).items()"
   ]
  },
  {
   "cell_type": "code",
   "execution_count": 22,
   "metadata": {},
   "outputs": [],
   "source": [
    "df = df[df.support_discretized != 1].copy().reset_index(drop=True)\n",
    "df['support_discretized'] -= 2"
   ]
  },
  {
   "cell_type": "code",
   "execution_count": 23,
   "metadata": {},
   "outputs": [
    {
     "data": {
      "text/plain": [
       "dict_items([(0, 8375), (1, 388)])"
      ]
     },
     "execution_count": 23,
     "metadata": {},
     "output_type": "execute_result"
    }
   ],
   "source": [
    "Counter(df.support_discretized).items()"
   ]
  },
  {
   "cell_type": "code",
   "execution_count": 24,
   "metadata": {},
   "outputs": [
    {
     "data": {
      "text/html": [
       "<div>\n",
       "<style scoped>\n",
       "    .dataframe tbody tr th:only-of-type {\n",
       "        vertical-align: middle;\n",
       "    }\n",
       "\n",
       "    .dataframe tbody tr th {\n",
       "        vertical-align: top;\n",
       "    }\n",
       "\n",
       "    .dataframe thead th {\n",
       "        text-align: right;\n",
       "    }\n",
       "</style>\n",
       "<table border=\"1\" class=\"dataframe\">\n",
       "  <thead>\n",
       "    <tr style=\"text-align: right;\">\n",
       "      <th></th>\n",
       "      <th>support_discretized</th>\n",
       "      <th>tokens</th>\n",
       "    </tr>\n",
       "  </thead>\n",
       "  <tbody>\n",
       "    <tr>\n",
       "      <td>0</td>\n",
       "      <td>0</td>\n",
       "      <td>[:, Did, your, way, of, checking, take, into, ...</td>\n",
       "    </tr>\n",
       "    <tr>\n",
       "      <td>1</td>\n",
       "      <td>0</td>\n",
       "      <td>[This, assertion, is, obviously, incorrect, .,...</td>\n",
       "    </tr>\n",
       "    <tr>\n",
       "      <td>2</td>\n",
       "      <td>0</td>\n",
       "      <td>[Sounds, like, that, site, could, work, some, ...</td>\n",
       "    </tr>\n",
       "    <tr>\n",
       "      <td>3</td>\n",
       "      <td>0</td>\n",
       "      <td>[Not, particularly, ., A, few, minor, points, ...</td>\n",
       "    </tr>\n",
       "    <tr>\n",
       "      <td>4</td>\n",
       "      <td>0</td>\n",
       "      <td>[This, should, probably, be, addressed, in, th...</td>\n",
       "    </tr>\n",
       "  </tbody>\n",
       "</table>\n",
       "</div>"
      ],
      "text/plain": [
       "   support_discretized                                             tokens\n",
       "0                    0  [:, Did, your, way, of, checking, take, into, ...\n",
       "1                    0  [This, assertion, is, obviously, incorrect, .,...\n",
       "2                    0  [Sounds, like, that, site, could, work, some, ...\n",
       "3                    0  [Not, particularly, ., A, few, minor, points, ...\n",
       "4                    0  [This, should, probably, be, addressed, in, th..."
      ]
     },
     "execution_count": 24,
     "metadata": {},
     "output_type": "execute_result"
    }
   ],
   "source": [
    "df[['support_discretized', 'tokens']].head()"
   ]
  },
  {
   "cell_type": "code",
   "execution_count": 7,
   "metadata": {},
   "outputs": [],
   "source": [
    "# cannot pickle lambda functions so we use an identity function instead\n",
    "def I(x):\n",
    "    return x"
   ]
  },
  {
   "cell_type": "code",
   "execution_count": 39,
   "metadata": {},
   "outputs": [],
   "source": [
    "text_clf = Pipeline([\n",
    "     ('vect', CountVectorizer(ngram_range=(1,2), min_df=3, \n",
    "                              tokenizer=I, \n",
    "                              preprocessor=I)),\n",
    "     ('tfidf', TfidfTransformer()),\n",
    "     ('clf', sklearn.linear_model.SGDClassifier(loss='log', alpha=0.001, tol=1e-3, max_iter=5000, penalty='elasticnet') ),\n",
    "])"
   ]
  },
  {
   "cell_type": "code",
   "execution_count": 40,
   "metadata": {},
   "outputs": [],
   "source": [
    "#text_clf.steps[2][1].get_params()"
   ]
  },
  {
   "cell_type": "code",
   "execution_count": 41,
   "metadata": {},
   "outputs": [],
   "source": [
    "gridsearch_autotune = True"
   ]
  },
  {
   "cell_type": "code",
   "execution_count": 42,
   "metadata": {},
   "outputs": [
    {
     "name": "stdout",
     "output_type": "stream",
     "text": [
      "Train: 86.02%\t test: 80.48%\t59.68% guess\t 53.76% true\n"
     ]
    }
   ],
   "source": [
    "if gridsearch_autotune:\n",
    "    param_grid = {'clf__alpha':[0.1, 0.01, 0.001, 0.0001, 0.00001],\n",
    "             'clf__epsilon':[1, 0.1, 0.01, 0.001, 0.0001],\n",
    "             'clf__l1_ratio':[.1, .15, .2, .25, .5],\n",
    "             'clf__tol':[.1, .01, .001, .0001, .00001]}\n",
    "    grid_clf = sklearn.model_selection.GridSearchCV(text_clf, param_grid, cv=10)\n",
    "    \n",
    "    train = df.sample(frac=.9)\n",
    "    test = df[~df.index.isin(train.index)]\n",
    "    \n",
    "    #downsample HERE\n",
    "    neutral_idx = train[train.support_discretized == 0].sample(n=400).index\n",
    "    neutral_total = len(neutral_idx)\n",
    "    supportive_idx = train[train.support_discretized == 1].index\n",
    "    supportive_total = len(supportive_idx)\n",
    "    train_subset_idx = neutral_idx.union(supportive_idx)\n",
    "    train_subset = train.loc[train_subset_idx]\n",
    "    \n",
    "    tuned_clf = grid_clf.fit(train_subset.tokens, train_subset.support_discretized)\n",
    "    \n",
    "    y_pred_train = tuned_clf.predict(train_subset.tokens)\n",
    "    y_pred_test = tuned_clf.predict(test.tokens)\n",
    "    acc_train = np.sum(y_pred_train == train_subset.support_discretized) / len(y_pred_train)\n",
    "    acc_test = np.sum(y_pred_test == test.support_discretized) / len(y_pred_test)\n",
    "    neutral_proportion = Counter(y_pred_train)[0] / len(y_pred_train)\n",
    "    neutral_true_proportion = Counter(train_subset.support_discretized)[0] / len(train_subset)\n",
    "    print(f\"Train: {acc_train*100:.2f}%\\t test: {acc_test*100:.2f}%\\t{neutral_proportion*100:.2f}% guess\\t {neutral_true_proportion*100:.2f}% true\")\n",
    "else:\n",
    "    kf = sklearn.model_selection.KFold(n_splits=20)\n",
    "    for train_idx, test_idx in kf.split(df):\n",
    "        train = df.loc[train_idx]\n",
    "        test = df.loc[test_idx]\n",
    "\n",
    "        #downsample HERE\n",
    "        neutral_idx = train[train.support_discretized == 0].sample(n=400).index\n",
    "        neutral_total = len(neutral_idx)\n",
    "\n",
    "        supportive_idx = train[train.support_discretized == 1].index\n",
    "        supportive_total = len(supportive_idx)\n",
    "\n",
    "        train_subset_idx = neutral_idx.union(supportive_idx)\n",
    "        train_subset = train.loc[train_subset_idx]\n",
    "\n",
    "        tuned_clf = text_clf.fit(train_subset.tokens, train_subset.support_discretized)\n",
    "\n",
    "        y_pred_train = tuned_clf.predict(train_subset.tokens)\n",
    "        y_pred_test = tuned_clf.predict(test.tokens)\n",
    "        acc_train = np.sum(y_pred_train == train_subset.support_discretized) / len(y_pred_train)\n",
    "        acc_test = np.sum(y_pred_test == test.support_discretized) / len(y_pred_test)\n",
    "        neutral_proportion = Counter(y_pred_train)[0] / len(y_pred_train)\n",
    "        neutral_true_proportion = Counter(train_subset.support_discretized)[0] / len(train_subset)\n",
    "        print(f\"Train: {acc_train*100:.2f}%\\t test: {acc_test*100:.2f}%\\t{neutral_proportion*100:.2f}% guess\\t {neutral_true_proportion*100:.2f}% true\")"
   ]
  },
  {
   "cell_type": "code",
   "execution_count": 43,
   "metadata": {},
   "outputs": [
    {
     "data": {
      "text/plain": [
       "['/home/lana/shared/caringbridge/data/projects/sna-social-support/support_modeling/support_classifier.sav']"
      ]
     },
     "execution_count": 43,
     "metadata": {},
     "output_type": "execute_result"
    }
   ],
   "source": [
    "import joblib\n",
    "joblib.dump(grid_clf, os.path.join(\"/home/lana/shared/caringbridge/data/projects/sna-social-support/support_modeling\", \"support_classifier.sav\"))"
   ]
  },
  {
   "cell_type": "markdown",
   "metadata": {},
   "source": [
    "#### Run it on Guestbooks"
   ]
  },
  {
   "cell_type": "code",
   "execution_count": 27,
   "metadata": {},
   "outputs": [],
   "source": [
    "#output_data_dir = \"/home/srivbane/shared/caringbridge/data/projects/sna-social-support/support_modeling\"\n",
    "#gbs = pd.read_hdf(os.path.join(output_data_dir, 'gb_sample_1000000_021220.h5'), key='gb_sample')\n",
    "#len(gbs)"
   ]
  },
  {
   "cell_type": "code",
   "execution_count": 28,
   "metadata": {},
   "outputs": [],
   "source": [
    "#gbs.head(n=2)"
   ]
  },
  {
   "cell_type": "markdown",
   "metadata": {},
   "source": [
    "Only run on new samples! Large samples should be submitted to PBS."
   ]
  },
  {
   "cell_type": "code",
   "execution_count": 29,
   "metadata": {},
   "outputs": [],
   "source": [
    "#tokens = []\n",
    "#for doc in tqdm(nlp.pipe(gbs.body_text, batch_size=25000, n_threads=16), total=1000000, position=False):\n",
    "#    tokens.append([token.text for token in doc])\n",
    "#gbs['tokens'] = tokens"
   ]
  },
  {
   "cell_type": "code",
   "execution_count": 30,
   "metadata": {},
   "outputs": [],
   "source": [
    "#gbs.to_pickle(data_dir / 'tokenized_gb_1000000.pkl')"
   ]
  },
  {
   "cell_type": "code",
   "execution_count": 8,
   "metadata": {},
   "outputs": [],
   "source": [
    "import joblib\n",
    "md = joblib.load(os.path.join(\"/home/lana/shared/caringbridge/data/projects/sna-social-support/support_modeling\", \"support_classifier.sav\"))"
   ]
  },
  {
   "cell_type": "code",
   "execution_count": 4,
   "metadata": {},
   "outputs": [
    {
     "data": {
      "text/plain": [
       "1000000"
      ]
     },
     "execution_count": 4,
     "metadata": {},
     "output_type": "execute_result"
    }
   ],
   "source": [
    "gbs = pd.read_hdf(data_dir / 'tokenized_gb_1000000.h5')\n",
    "len(gbs)"
   ]
  },
  {
   "cell_type": "code",
   "execution_count": null,
   "metadata": {},
   "outputs": [],
   "source": [
    "train = df\n",
    "neutral_idx = train[train.support_discretized == 0].sample(n=400).index\n",
    "neutral_total = len(neutral_idx)\n",
    "supportive_idx = train[train.support_discretized == 1].index\n",
    "supportive_total = len(supportive_idx)\n",
    "train_subset_idx = neutral_idx.union(supportive_idx)\n",
    "train_subset = train.loc[train_subset_idx]\n",
    "md = tuned_clf.fit(train_subset.tokens, train_subset.support_discretized)\n",
    "y_pred_train = md.predict(train_subset.tokens)\n",
    "acc_train = np.sum(y_pred_train == train_subset.support_discretized) / len(y_pred_train)\n",
    "acc_train"
   ]
  },
  {
   "cell_type": "code",
   "execution_count": 12,
   "metadata": {},
   "outputs": [
    {
     "name": "stdout",
     "output_type": "stream",
     "text": [
      "1 751645\n",
      "0 248355\n"
     ]
    }
   ],
   "source": [
    "gbs_predicted = md.predict(gbs.tokens)\n",
    "gbs['pred_label'] = gbs_predicted\n",
    "for label, count in Counter(gbs_predicted).most_common():\n",
    "    print(label, count)"
   ]
  },
  {
   "cell_type": "code",
   "execution_count": 13,
   "metadata": {},
   "outputs": [],
   "source": [
    "gbs_score_predicted = md.predict_proba(gbs.tokens)\n",
    "gbs['pred_prob_neutral'] = gbs_score_predicted[:,0]\n",
    "gbs['pred_prob_supportive'] = gbs_score_predicted[:,1]"
   ]
  },
  {
   "cell_type": "code",
   "execution_count": 14,
   "metadata": {},
   "outputs": [
    {
     "data": {
      "text/plain": [
       "array([[0.36135927, 0.63864073],\n",
       "       [0.19378608, 0.80621392],\n",
       "       [0.19490235, 0.80509765],\n",
       "       ...,\n",
       "       [0.51768795, 0.48231205],\n",
       "       [0.13655766, 0.86344234],\n",
       "       [0.21593439, 0.78406561]])"
      ]
     },
     "execution_count": 14,
     "metadata": {},
     "output_type": "execute_result"
    }
   ],
   "source": [
    "gbs_score_predicted"
   ]
  },
  {
   "cell_type": "code",
   "execution_count": 15,
   "metadata": {},
   "outputs": [
    {
     "data": {
      "image/png": "[encoded data removed]",
      "text/plain": [
       "<Figure size 432x288 with 1 Axes>"
      ]
     },
     "metadata": {
      "needs_background": "light"
     },
     "output_type": "display_data"
    }
   ],
   "source": [
    "plt.hist(gbs_score_predicted[:,1], bins=np.linspace(0, 1, num=100))\n",
    "plt.ylabel(\"Quantity\")\n",
    "plt.xlabel(\"Predicted Probability\")\n",
    "plt.show()"
   ]
  },
  {
   "cell_type": "code",
   "execution_count": 16,
   "metadata": {},
   "outputs": [],
   "source": [
    "gbs['support_discretized'] = (gbs['pred_prob_supportive'] >= .67)"
   ]
  },
  {
   "cell_type": "code",
   "execution_count": 38,
   "metadata": {},
   "outputs": [],
   "source": [
    "#for row in gbs[[\n",
    "#    'site_id', 'created_at', 'site_index', \n",
    "#   'pred_label', 'pred_prob_neutral', \n",
    "#    'pred_prob_supportive', 'body_text']].sort_values(\n",
    "#    by='pred_prob_supportive', ascending=False\n",
    "#).head(n=10).itertuples():\n",
    "#    print(row.pred_prob_supportive)\n",
    "#    print(row.body_text)\n",
    "#    print()"
   ]
  },
  {
   "cell_type": "code",
   "execution_count": 38,
   "metadata": {},
   "outputs": [],
   "source": [
    "#for row in gbs[[\n",
    "#    'site_id', 'created_at', 'site_index', \n",
    "#    'pred_label', 'pred_prob_neutral', \n",
    "#    'pred_prob_supportive', 'body_text']].sort_values(\n",
    "#    by='pred_prob_supportive', ascending=True\n",
    "#).head(n=10).itertuples():\n",
    "#    print(row.pred_prob_supportive)\n",
    "#    print(row.body_text)\n",
    "#    print()"
   ]
  },
  {
   "cell_type": "code",
   "execution_count": 39,
   "metadata": {},
   "outputs": [
    {
     "name": "stderr",
     "output_type": "stream",
     "text": [
      "/home/srivbane/shared/anaconda3/lib/python3.7/site-packages/pandas/core/generic.py:2530: PerformanceWarning: \n",
      "your performance may suffer as PyTables will pickle object types that it cannot\n",
      "map directly to c-types [inferred_type->mixed,key->block3_values] [items->['int_type', 'journal_oid', 'body_text', 'tokens']]\n",
      "\n",
      "  pytables.to_hdf(path_or_buf, key, self, **kwargs)\n"
     ]
    }
   ],
   "source": [
    "gbs.to_hdf('data/classified_gbs.h5', key='gbs')"
   ]
  },
  {
   "cell_type": "markdown",
   "metadata": {},
   "source": [
    "### Topic Modeling with LDA\n",
    "For larger samples, I have a job script to do the modeling, which we can load from memory"
   ]
  },
  {
   "cell_type": "code",
   "execution_count": 18,
   "metadata": {},
   "outputs": [
    {
     "name": "stderr",
     "output_type": "stream",
     "text": [
      "/home/srivbane/shared/anaconda3/lib/python3.7/site-packages/scipy/sparse/sparsetools.py:21: DeprecationWarning: `scipy.sparse.sparsetools` is deprecated!\n",
      "scipy.sparse.sparsetools is a private module for scipy.sparse, and should not be used.\n",
      "  _deprecated()\n"
     ]
    }
   ],
   "source": [
    "import gensim\n",
    "import logging\n",
    "# gensim has an annoying feature that all of its output is produced via logging, so we have to set that up to get feedback on training\n",
    "logging.basicConfig(format='%(asctime)s : %(levelname)s : %(message)s', level=logging.INFO)"
   ]
  },
  {
   "cell_type": "code",
   "execution_count": 21,
   "metadata": {},
   "outputs": [
    {
     "name": "stderr",
     "output_type": "stream",
     "text": [
      "2020-04-07 11:51:45,130 : INFO : loading LdaModel object from /home/lana/shared/caringbridge/data/projects/sna-social-support/support_modeling/lda/gb_1000000_lda_100t.model\n",
      "2020-04-07 11:51:45,134 : INFO : loading expElogbeta from /home/lana/shared/caringbridge/data/projects/sna-social-support/support_modeling/lda/gb_1000000_lda_100t.model.expElogbeta.npy with mmap=None\n",
      "2020-04-07 11:51:45,162 : INFO : setting ignored attribute state to None\n",
      "2020-04-07 11:51:45,163 : INFO : setting ignored attribute dispatcher to None\n",
      "2020-04-07 11:51:45,164 : INFO : setting ignored attribute id2word to None\n",
      "2020-04-07 11:51:45,165 : INFO : loaded /home/lana/shared/caringbridge/data/projects/sna-social-support/support_modeling/lda/gb_1000000_lda_100t.model\n",
      "2020-04-07 11:51:45,165 : INFO : loading LdaState object from /home/lana/shared/caringbridge/data/projects/sna-social-support/support_modeling/lda/gb_1000000_lda_100t.model.state\n",
      "2020-04-07 11:51:45,313 : INFO : loaded /home/lana/shared/caringbridge/data/projects/sna-social-support/support_modeling/lda/gb_1000000_lda_100t.model.state\n",
      "2020-04-07 11:51:45,374 : INFO : loading Dictionary object from /home/lana/shared/caringbridge/data/projects/sna-social-support/support_modeling/lda/gb_100t_dict.pkl\n",
      "2020-04-07 11:51:45,498 : INFO : loaded /home/lana/shared/caringbridge/data/projects/sna-social-support/support_modeling/lda/gb_100t_dict.pkl\n"
     ]
    }
   ],
   "source": [
    "saved_data_dir = \"/home/lana/shared/caringbridge/data/projects/sna-social-support/support_modeling\"\n",
    "lda = gensim.models.LdaModel.load(os.path.join(saved_data_dir, \"lda/gb_1000000_lda_100t.model\"))\n",
    "dct = gensim.corpora.Dictionary.load(os.path.join(saved_data_dir, \"lda/gb_100t_dict.pkl\"))"
   ]
  },
  {
   "cell_type": "code",
   "execution_count": 41,
   "metadata": {
    "scrolled": true
   },
   "outputs": [],
   "source": [
    "#dct = gensim.corpora.Dictionary(gbs.tokens)\n",
    "#len(dct)"
   ]
  },
  {
   "cell_type": "code",
   "execution_count": 42,
   "metadata": {},
   "outputs": [],
   "source": [
    "#prev_size = len(dct)\n",
    "#dct.filter_extremes(no_below=5, no_above=0.2)\n",
    "#new_size = len(dct)\n",
    "#print(f\"Removed {prev_size - new_size} dictionary entries. New size: {new_size}\")"
   ]
  },
  {
   "cell_type": "code",
   "execution_count": 43,
   "metadata": {},
   "outputs": [],
   "source": [
    "#lda = gensim.models.LdaMulticore(corpus, id2word=dct, num_topics=30, passes=10, chunksize=10000)"
   ]
  },
  {
   "cell_type": "code",
   "execution_count": 22,
   "metadata": {},
   "outputs": [
    {
     "name": "stderr",
     "output_type": "stream",
     "text": [
      "100%|██████████| 1000000/1000000 [01:01<00:00, 16207.56it/s]\n"
     ]
    },
    {
     "data": {
      "text/plain": [
       "996189"
      ]
     },
     "execution_count": 22,
     "metadata": {},
     "output_type": "execute_result"
    }
   ],
   "source": [
    "corpus = [dct.doc2bow(sentence) for sentence in tqdm(gbs.tokens, position=False) if len(sentence) > 2]\n",
    "len(corpus)"
   ]
  },
  {
   "cell_type": "code",
   "execution_count": 23,
   "metadata": {},
   "outputs": [
    {
     "name": "stderr",
     "output_type": "stream",
     "text": [
      "1000000it [02:06, 7917.70it/s]\n"
     ]
    }
   ],
   "source": [
    "dropped = [i for i, row in tqdm(gbs.iterrows(), position=False) if len(row.tokens) <= 2]"
   ]
  },
  {
   "cell_type": "code",
   "execution_count": null,
   "metadata": {},
   "outputs": [],
   "source": [
    "#prepared_data = pyLDAvis.gensim.prepare(lda, corpus, dct)"
   ]
  },
  {
   "cell_type": "code",
   "execution_count": null,
   "metadata": {},
   "outputs": [],
   "source": [
    "#pyLDAvis.save_html(prepared_data, \"lda_vis.html\")"
   ]
  },
  {
   "cell_type": "markdown",
   "metadata": {},
   "source": [
    "#### Representative Documents"
   ]
  },
  {
   "cell_type": "code",
   "execution_count": 8,
   "metadata": {},
   "outputs": [
    {
     "name": "stderr",
     "output_type": "stream",
     "text": [
      "100%|█████████▉| 996189/1000000 [23:03<00:05, 720.11it/s]\n"
     ]
    }
   ],
   "source": [
    "representative_idx = {x : [] for x in range(1,101)} # {topic : [(idx, prob)... ]}\n",
    "for i, doc in tqdm(enumerate(corpus), total=1000000):\n",
    "    for tup in lda.get_document_topics(doc, minimum_probability=0):\n",
    "        # if this_probability > representative_probability\n",
    "        if tup[1] > 0.9:\n",
    "            representative_idx[tup[0]+1].append((i, tup[1]))"
   ]
  },
  {
   "cell_type": "code",
   "execution_count": 9,
   "metadata": {},
   "outputs": [],
   "source": [
    "representative_topics = {x : [] for x in range(1,101)}\n",
    "for k in representative_idx.keys():\n",
    "    for tup in representative_idx[k]:\n",
    "        i, p = tup\n",
    "        representative_topics[k].append(gbs.iloc[i].body_text)"
   ]
  },
  {
   "cell_type": "markdown",
   "metadata": {},
   "source": [
    "Handpick representatives from anything above a prob of 90%"
   ]
  },
  {
   "cell_type": "code",
   "execution_count": 12,
   "metadata": {},
   "outputs": [],
   "source": [
    "with open(\"data/representatives.txt\", 'w+') as record:\n",
    "    for topic in representative_topics.keys():\n",
    "        record.write(f\"TOPIC {topic}: \\n\")\n",
    "        for doc in representative_topics[topic]:\n",
    "            record.write(f\"{doc}\\n-----\\n\")\n",
    "        record.write(\"\\n------------------------------\\n\")"
   ]
  },
  {
   "cell_type": "markdown",
   "metadata": {},
   "source": [
    "### Topic Modeling and Support Correlation\n",
    "##### Continous v. Continous"
   ]
  },
  {
   "cell_type": "code",
   "execution_count": 69,
   "metadata": {},
   "outputs": [],
   "source": [
    "gbs_copy = gbs.copy().drop(dropped).reset_index()"
   ]
  },
  {
   "cell_type": "code",
   "execution_count": 60,
   "metadata": {},
   "outputs": [
    {
     "data": {
      "text/plain": [
       "996189"
      ]
     },
     "execution_count": 60,
     "metadata": {},
     "output_type": "execute_result"
    }
   ],
   "source": [
    "f = []\n",
    "for doc in corpus:\n",
    "    topic_probs = lda.get_document_topics(doc, minimum_probability=0)\n",
    "    f.append([x[1] for x in topic_probs])\n",
    "df = pd.DataFrame(f)\n",
    "len(df)"
   ]
  },
  {
   "cell_type": "code",
   "execution_count": 70,
   "metadata": {},
   "outputs": [],
   "source": [
    "df['support'] = gbs_copy['pred_prob_supportive']"
   ]
  },
  {
   "cell_type": "code",
   "execution_count": 72,
   "metadata": {},
   "outputs": [
    {
     "data": {
      "text/html": [
       "<div>\n",
       "<style scoped>\n",
       "    .dataframe tbody tr th:only-of-type {\n",
       "        vertical-align: middle;\n",
       "    }\n",
       "\n",
       "    .dataframe tbody tr th {\n",
       "        vertical-align: top;\n",
       "    }\n",
       "\n",
       "    .dataframe thead th {\n",
       "        text-align: right;\n",
       "    }\n",
       "</style>\n",
       "<table border=\"1\" class=\"dataframe\">\n",
       "  <thead>\n",
       "    <tr style=\"text-align: right;\">\n",
       "      <th></th>\n",
       "      <th>1</th>\n",
       "      <th>2</th>\n",
       "      <th>3</th>\n",
       "      <th>4</th>\n",
       "      <th>5</th>\n",
       "      <th>6</th>\n",
       "      <th>7</th>\n",
       "      <th>8</th>\n",
       "      <th>9</th>\n",
       "      <th>10</th>\n",
       "      <th>...</th>\n",
       "      <th>91</th>\n",
       "      <th>92</th>\n",
       "      <th>93</th>\n",
       "      <th>94</th>\n",
       "      <th>95</th>\n",
       "      <th>96</th>\n",
       "      <th>97</th>\n",
       "      <th>98</th>\n",
       "      <th>99</th>\n",
       "      <th>100</th>\n",
       "    </tr>\n",
       "  </thead>\n",
       "  <tbody>\n",
       "    <tr>\n",
       "      <td>R</td>\n",
       "      <td>0.009</td>\n",
       "      <td>-0.067</td>\n",
       "      <td>-0.017</td>\n",
       "      <td>-0.121</td>\n",
       "      <td>0.029</td>\n",
       "      <td>0.067</td>\n",
       "      <td>0.023</td>\n",
       "      <td>-0.148</td>\n",
       "      <td>0.008</td>\n",
       "      <td>-0.001</td>\n",
       "      <td>...</td>\n",
       "      <td>-0.011</td>\n",
       "      <td>0.053</td>\n",
       "      <td>0.034</td>\n",
       "      <td>-0.014</td>\n",
       "      <td>-0.145</td>\n",
       "      <td>0.107</td>\n",
       "      <td>-0.003</td>\n",
       "      <td>0.024</td>\n",
       "      <td>-0.141</td>\n",
       "      <td>0.027</td>\n",
       "    </tr>\n",
       "    <tr>\n",
       "      <td>p</td>\n",
       "      <td>0.000</td>\n",
       "      <td>0.000</td>\n",
       "      <td>0.000</td>\n",
       "      <td>0.000</td>\n",
       "      <td>0.000</td>\n",
       "      <td>0.000</td>\n",
       "      <td>0.000</td>\n",
       "      <td>0.000</td>\n",
       "      <td>0.000</td>\n",
       "      <td>0.173</td>\n",
       "      <td>...</td>\n",
       "      <td>0.000</td>\n",
       "      <td>0.000</td>\n",
       "      <td>0.000</td>\n",
       "      <td>0.000</td>\n",
       "      <td>0.000</td>\n",
       "      <td>0.000</td>\n",
       "      <td>0.011</td>\n",
       "      <td>0.000</td>\n",
       "      <td>0.000</td>\n",
       "      <td>0.000</td>\n",
       "    </tr>\n",
       "  </tbody>\n",
       "</table>\n",
       "<p>2 rows × 100 columns</p>\n",
       "</div>"
      ],
      "text/plain": [
       "     1      2      3      4      5      6      7      8      9      10   ...  \\\n",
       "R  0.009 -0.067 -0.017 -0.121  0.029  0.067  0.023 -0.148  0.008 -0.001  ...   \n",
       "p  0.000  0.000  0.000  0.000  0.000  0.000  0.000  0.000  0.000  0.173  ...   \n",
       "\n",
       "     91     92     93     94     95     96     97     98     99     100  \n",
       "R -0.011  0.053  0.034 -0.014 -0.145  0.107 -0.003  0.024 -0.141  0.027  \n",
       "p  0.000  0.000  0.000  0.000  0.000  0.000  0.011  0.000  0.000  0.000  \n",
       "\n",
       "[2 rows x 100 columns]"
      ]
     },
     "execution_count": 72,
     "metadata": {},
     "output_type": "execute_result"
    }
   ],
   "source": [
    "import scipy\n",
    "stats = []\n",
    "for i in range(0,100):\n",
    "    corr = scipy.stats.pearsonr(df[i], df['support'])\n",
    "    stats.append(corr)\n",
    "corr_cc_df = pd.DataFrame(stats, index=range(1,101), columns=[\"R\", \"p\"]).round(3)\n",
    "corr_cc_df.style.apply(lambda x: [\"background: yellow\" if abs(v) > .9 else \"\" for v in x], axis = 1, subset=[\"R\"])\n",
    "corr_cc_df.style.apply(lambda x: [\"background: yellow\" if abs(v) < (0.05 / 30) else \"\" for v in x], axis = 1, subset = [\"p\"])\n",
    "corr_cc_df.T"
   ]
  },
  {
   "cell_type": "code",
   "execution_count": 73,
   "metadata": {},
   "outputs": [
    {
     "name": "stdout",
     "output_type": "stream",
     "text": [
      "[C-C] Avg R: -0.0006399999999999993\t Avg p-val: 0.00336\n"
     ]
    }
   ],
   "source": [
    "print(f\"[C-C] Avg R: {np.mean(corr_cc_df.R)}\\t Avg p-val: {np.mean(corr_cc_df.p)}\")"
   ]
  },
  {
   "cell_type": "markdown",
   "metadata": {},
   "source": [
    "##### Other measures"
   ]
  },
  {
   "cell_type": "code",
   "execution_count": 94,
   "metadata": {},
   "outputs": [
    {
     "name": "stderr",
     "output_type": "stream",
     "text": [
      "100%|██████████| 996189/996189 [19:57<00:00, 831.72it/s]\n"
     ]
    }
   ],
   "source": [
    "f = []\n",
    "for doc in tqdm(corpus, position=False):\n",
    "    topic_probs = sorted(lda.get_document_topics(doc, minimum_probability=0), key = lambda x: x[1], reverse=True)\n",
    "    assigned = topic_probs[0][0]\n",
    "    f.append(assigned)\n",
    "df = pd.DataFrame(f, columns=['topic'])\n",
    "df['support'] = gbs_copy['pred_prob_supportive']"
   ]
  },
  {
   "cell_type": "code",
   "execution_count": 97,
   "metadata": {},
   "outputs": [],
   "source": [
    "rdd, pdd = scipy.stats.pearsonr(f, gbs_copy['support_discretized'].values[:len(f)])\n",
    "rdc, pdc = scipy.stats.pearsonr(f, gbs_copy['pred_prob_supportive'].values[:len(f)])"
   ]
  },
  {
   "cell_type": "code",
   "execution_count": 98,
   "metadata": {},
   "outputs": [
    {
     "name": "stdout",
     "output_type": "stream",
     "text": [
      "[D-D] Avg R: 0.002373331776323387\t Avg p-val: 0.01784563833800888\n",
      "[D-C] Avg R: -0.009924630749299168\t Avg p-val: 3.92291908684619e-23\n"
     ]
    }
   ],
   "source": [
    "print(f\"[D-D] Avg R: {rdd}\\t Avg p-val: {pdd}\")\n",
    "print(f\"[D-C] Avg R: {rdc}\\t Avg p-val: {pdc}\")"
   ]
  },
  {
   "cell_type": "markdown",
   "metadata": {},
   "source": [
    "## For Thesis"
   ]
  },
  {
   "cell_type": "code",
   "execution_count": 24,
   "metadata": {},
   "outputs": [
    {
     "data": {
      "text/html": [
       "<div>\n",
       "<style scoped>\n",
       "    .dataframe tbody tr th:only-of-type {\n",
       "        vertical-align: middle;\n",
       "    }\n",
       "\n",
       "    .dataframe tbody tr th {\n",
       "        vertical-align: top;\n",
       "    }\n",
       "\n",
       "    .dataframe thead th {\n",
       "        text-align: right;\n",
       "    }\n",
       "</style>\n",
       "<table border=\"1\" class=\"dataframe\">\n",
       "  <thead>\n",
       "    <tr style=\"text-align: right;\">\n",
       "      <th></th>\n",
       "      <th>user_id</th>\n",
       "      <th>site_id</th>\n",
       "      <th>int_type</th>\n",
       "      <th>created_at</th>\n",
       "      <th>updated_at</th>\n",
       "      <th>journal_oid</th>\n",
       "      <th>site_index</th>\n",
       "      <th>is_nontrivial</th>\n",
       "      <th>is_self_interaction</th>\n",
       "      <th>body_text</th>\n",
       "      <th>tokens</th>\n",
       "      <th>pred_label</th>\n",
       "      <th>pred_prob_neutral</th>\n",
       "      <th>pred_prob_supportive</th>\n",
       "      <th>support_discretized</th>\n",
       "    </tr>\n",
       "  </thead>\n",
       "  <tbody>\n",
       "    <tr>\n",
       "      <td>540271</td>\n",
       "      <td>355936</td>\n",
       "      <td>11900</td>\n",
       "      <td>guestbook</td>\n",
       "      <td>1184103659000</td>\n",
       "      <td>1184103659000</td>\n",
       "      <td></td>\n",
       "      <td>-1.0</td>\n",
       "      <td>True</td>\n",
       "      <td>False</td>\n",
       "      <td>For all the help the medical community can be,...</td>\n",
       "      <td>[For, all, the, help, the, medical, community,...</td>\n",
       "      <td>1</td>\n",
       "      <td>0.361359</td>\n",
       "      <td>0.638641</td>\n",
       "      <td>False</td>\n",
       "    </tr>\n",
       "    <tr>\n",
       "      <td>3609373</td>\n",
       "      <td>1884841</td>\n",
       "      <td>119180</td>\n",
       "      <td>guestbook</td>\n",
       "      <td>1251075969000</td>\n",
       "      <td>1251075969000</td>\n",
       "      <td></td>\n",
       "      <td>-1.0</td>\n",
       "      <td>True</td>\n",
       "      <td>False</td>\n",
       "      <td>Kylee:  I love the story.  Next time just try ...</td>\n",
       "      <td>[Kylee, :,   , I, love, the, story, .,   , Nex...</td>\n",
       "      <td>1</td>\n",
       "      <td>0.193786</td>\n",
       "      <td>0.806214</td>\n",
       "      <td>True</td>\n",
       "    </tr>\n",
       "    <tr>\n",
       "      <td>4325045</td>\n",
       "      <td>1195944</td>\n",
       "      <td>55715</td>\n",
       "      <td>guestbook</td>\n",
       "      <td>1197856577000</td>\n",
       "      <td>1197856577000</td>\n",
       "      <td></td>\n",
       "      <td>-1.0</td>\n",
       "      <td>True</td>\n",
       "      <td>False</td>\n",
       "      <td>What an honor to be the very first person to s...</td>\n",
       "      <td>[What, an, honor, to, be, the, very, first, pe...</td>\n",
       "      <td>1</td>\n",
       "      <td>0.194902</td>\n",
       "      <td>0.805098</td>\n",
       "      <td>True</td>\n",
       "    </tr>\n",
       "    <tr>\n",
       "      <td>5414881</td>\n",
       "      <td>6773640</td>\n",
       "      <td>57152</td>\n",
       "      <td>guestbook</td>\n",
       "      <td>1301181775000</td>\n",
       "      <td>1301181775000</td>\n",
       "      <td></td>\n",
       "      <td>-1.0</td>\n",
       "      <td>True</td>\n",
       "      <td>False</td>\n",
       "      <td>Home is the best place to be, think about you ...</td>\n",
       "      <td>[Home, is, the, best, place, to, be, ,, think,...</td>\n",
       "      <td>0</td>\n",
       "      <td>0.569621</td>\n",
       "      <td>0.430379</td>\n",
       "      <td>False</td>\n",
       "    </tr>\n",
       "    <tr>\n",
       "      <td>1726463</td>\n",
       "      <td>15515585</td>\n",
       "      <td>186646</td>\n",
       "      <td>guestbook</td>\n",
       "      <td>1335786062000</td>\n",
       "      <td>1335786062000</td>\n",
       "      <td></td>\n",
       "      <td>-1.0</td>\n",
       "      <td>True</td>\n",
       "      <td>False</td>\n",
       "      <td>I was reading the words - we can never go back...</td>\n",
       "      <td>[I, was, reading, the, words, -, we, can, neve...</td>\n",
       "      <td>0</td>\n",
       "      <td>0.546823</td>\n",
       "      <td>0.453177</td>\n",
       "      <td>False</td>\n",
       "    </tr>\n",
       "  </tbody>\n",
       "</table>\n",
       "</div>"
      ],
      "text/plain": [
       "          user_id  site_id   int_type     created_at     updated_at  \\\n",
       "540271     355936    11900  guestbook  1184103659000  1184103659000   \n",
       "3609373   1884841   119180  guestbook  1251075969000  1251075969000   \n",
       "4325045   1195944    55715  guestbook  1197856577000  1197856577000   \n",
       "5414881   6773640    57152  guestbook  1301181775000  1301181775000   \n",
       "1726463  15515585   186646  guestbook  1335786062000  1335786062000   \n",
       "\n",
       "        journal_oid  site_index  is_nontrivial  is_self_interaction  \\\n",
       "540271                     -1.0           True                False   \n",
       "3609373                    -1.0           True                False   \n",
       "4325045                    -1.0           True                False   \n",
       "5414881                    -1.0           True                False   \n",
       "1726463                    -1.0           True                False   \n",
       "\n",
       "                                                 body_text  \\\n",
       "540271   For all the help the medical community can be,...   \n",
       "3609373  Kylee:  I love the story.  Next time just try ...   \n",
       "4325045  What an honor to be the very first person to s...   \n",
       "5414881  Home is the best place to be, think about you ...   \n",
       "1726463  I was reading the words - we can never go back...   \n",
       "\n",
       "                                                    tokens  pred_label  \\\n",
       "540271   [For, all, the, help, the, medical, community,...           1   \n",
       "3609373  [Kylee, :,   , I, love, the, story, .,   , Nex...           1   \n",
       "4325045  [What, an, honor, to, be, the, very, first, pe...           1   \n",
       "5414881  [Home, is, the, best, place, to, be, ,, think,...           0   \n",
       "1726463  [I, was, reading, the, words, -, we, can, neve...           0   \n",
       "\n",
       "         pred_prob_neutral  pred_prob_supportive  support_discretized  \n",
       "540271            0.361359              0.638641                False  \n",
       "3609373           0.193786              0.806214                 True  \n",
       "4325045           0.194902              0.805098                 True  \n",
       "5414881           0.569621              0.430379                False  \n",
       "1726463           0.546823              0.453177                False  "
      ]
     },
     "execution_count": 24,
     "metadata": {},
     "output_type": "execute_result"
    }
   ],
   "source": [
    "gbs.head()"
   ]
  },
  {
   "cell_type": "code",
   "execution_count": 45,
   "metadata": {},
   "outputs": [
    {
     "name": "stderr",
     "output_type": "stream",
     "text": [
      "100%|██████████| 1000000/1000000 [23:34<00:00, 707.02it/s]\n"
     ]
    }
   ],
   "source": [
    "prime_topic = []\n",
    "d = 0\n",
    "ri = 0\n",
    "for i, row in tqdm(gbs.iterrows(), total=len(gbs)):\n",
    "    if i in dropped:\n",
    "        prime_topic.append(-1)\n",
    "        d+=1\n",
    "    else:\n",
    "        topic_probs = sorted(lda.get_document_topics(corpus[ri - d], minimum_probability=0), key = lambda x: x[1], reverse=True)\n",
    "        prime_topic.append(topic_probs[0][0])\n",
    "    ri += 1\n",
    "gbs['prime_topic'] = prime_topic"
   ]
  },
  {
   "cell_type": "code",
   "execution_count": 46,
   "metadata": {},
   "outputs": [],
   "source": [
    "avg_support_by_topic = []\n",
    "for i in range(1,100):\n",
    "    this = gbs[gbs.prime_topic == i]\n",
    "    avg_support_by_topic.append(np.mean(this.pred_prob_supportive))"
   ]
  },
  {
   "cell_type": "code",
   "execution_count": 49,
   "metadata": {},
   "outputs": [
    {
     "name": "stdout",
     "output_type": "stream",
     "text": [
      "0: 46.26%\n",
      "1: 53.49%\n",
      "2: 55.83%\n",
      "3: 67.15%\n",
      "4: 67.18%\n",
      "5: 65.02%\n",
      "6: 53.12%\n",
      "7: 62.02%\n",
      "8: 57.02%\n",
      "9: 62.29%\n",
      "10: 57.49%\n",
      "11: 60.41%\n",
      "12: 58.86%\n",
      "13: 58.93%\n",
      "14: 61.10%\n",
      "15: 51.45%\n",
      "16: 57.71%\n",
      "17: 62.29%\n",
      "18: 63.19%\n",
      "19: 61.09%\n",
      "20: 63.29%\n",
      "21: 64.77%\n",
      "22: 54.55%\n",
      "23: 56.96%\n",
      "24: 70.89%\n",
      "25: 60.35%\n",
      "26: 57.07%\n",
      "27: 68.52%\n",
      "28: 49.88%\n",
      "29: 68.09%\n",
      "30: 55.50%\n",
      "31: 60.93%\n",
      "32: 59.21%\n",
      "33: 58.71%\n",
      "34: 72.11%\n",
      "35: 64.76%\n",
      "36: 64.77%\n",
      "37: 62.82%\n",
      "38: 64.86%\n",
      "39: 58.58%\n",
      "40: 68.87%\n",
      "41: 59.23%\n",
      "42: 65.48%\n",
      "43: 66.45%\n",
      "44: 70.60%\n",
      "45: 65.90%\n",
      "46: 55.74%\n",
      "47: 66.40%\n",
      "48: 66.94%\n",
      "49: 59.34%\n",
      "50: 65.22%\n",
      "51: 60.42%\n",
      "52: 69.51%\n",
      "53: 66.74%\n",
      "54: 62.23%\n",
      "55: 62.98%\n",
      "56: 59.00%\n",
      "57: 65.63%\n",
      "58: 62.55%\n",
      "59: 67.36%\n",
      "60: 62.61%\n",
      "61: 62.11%\n",
      "62: 65.84%\n",
      "63: 57.70%\n",
      "64: 64.91%\n",
      "65: 50.96%\n",
      "66: 54.93%\n",
      "67: 58.36%\n",
      "68: 56.25%\n",
      "69: 62.46%\n",
      "70: 46.28%\n",
      "71: 57.00%\n",
      "72: 65.13%\n",
      "73: 53.76%\n",
      "74: 63.38%\n",
      "75: 65.90%\n",
      "76: 61.30%\n",
      "77: 58.37%\n",
      "78: 64.03%\n",
      "79: 61.43%\n",
      "80: 70.78%\n",
      "81: 63.51%\n",
      "82: 67.12%\n",
      "83: 62.06%\n",
      "84: 60.65%\n",
      "85: 49.93%\n",
      "86: 78.25%\n",
      "87: 64.27%\n",
      "88: 63.47%\n",
      "89: 55.65%\n",
      "90: 64.68%\n",
      "91: 69.24%\n",
      "92: 60.45%\n",
      "93: 52.74%\n",
      "94: 69.61%\n",
      "95: 59.90%\n",
      "96: 64.63%\n",
      "97: 53.08%\n",
      "98: 62.92%\n"
     ]
    }
   ],
   "source": [
    "for i, stat in enumerate(avg_support_by_topic):\n",
    "    print(f\"{i+1}: {100*stat:.2f}%\")"
   ]
  },
  {
   "cell_type": "code",
   "execution_count": null,
   "metadata": {},
   "outputs": [],
   "source": []
  }
 ],
 "metadata": {
  "kernelspec": {
   "display_name": "Python 3",
   "language": "python",
   "name": "python3"
  },
  "language_info": {
   "codemirror_mode": {
    "name": "ipython",
    "version": 3
   },
   "file_extension": ".py",
   "mimetype": "text/x-python",
   "name": "python",
   "nbconvert_exporter": "python",
   "pygments_lexer": "ipython3",
   "version": "3.7.3"
  }
 },
 "nbformat": 4,
 "nbformat_minor": 2
}
