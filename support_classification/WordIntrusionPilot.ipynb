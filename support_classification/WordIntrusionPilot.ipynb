{
 "cells": [
  {
   "cell_type": "markdown",
   "metadata": {},
   "source": [
    "# Word Intrusion Setup & Analysis\n",
    "For the 100-topic model, we need 8 variations of 10 tasks (80 surveys of 10), for 30, we need 8 variations of 3 tasks (24 surveys of 3)."
   ]
  },
  {
   "cell_type": "code",
   "execution_count": 2,
   "metadata": {},
   "outputs": [
    {
     "name": "stderr",
     "output_type": "stream",
     "text": [
      "/home/srivbane/shared/anaconda3/lib/python3.7/site-packages/scipy/sparse/sparsetools.py:21: DeprecationWarning: `scipy.sparse.sparsetools` is deprecated!\n",
      "scipy.sparse.sparsetools is a private module for scipy.sparse, and should not be used.\n",
      "  _deprecated()\n"
     ]
    }
   ],
   "source": [
    "%matplotlib inline\n",
    "\n",
    "from pathlib import Path\n",
    "import os\n",
    "import subprocess\n",
    "\n",
    "import pandas as pd\n",
    "import numpy as np\n",
    "\n",
    "from collections import Counter\n",
    "from tqdm import tqdm\n",
    "\n",
    "import matplotlib.pyplot as plt\n",
    "import matplotlib.dates as md\n",
    "import matplotlib\n",
    "import pylab as pl\n",
    "from IPython.core.display import display, HTML\n",
    "\n",
    "import sklearn\n",
    "import sklearn.model_selection\n",
    "import sklearn.linear_model\n",
    "from sklearn.feature_extraction.text import CountVectorizer, TfidfTransformer\n",
    "from sklearn.pipeline import Pipeline\n",
    "\n",
    "import spacy\n",
    "\n",
    "import pyLDAvis\n",
    "import gensim\n",
    "import logging"
   ]
  },
  {
   "cell_type": "code",
   "execution_count": 2,
   "metadata": {},
   "outputs": [],
   "source": [
    "saved_data_dir = \"/home/srivbane/shared/caringbridge/data/projects/sna-social-support/support_modeling\"\n",
    "lda100 = gensim.models.LdaModel.load(os.path.join(saved_data_dir, \"lda/gb_1000000_lda_100t.model\"))\n",
    "lda30 = gensim.models.LdaModel.load(os.path.join(saved_data_dir, \"lda/gb_1000000_lda_30t.model\"))\n",
    "#dct100 = gensim.corpora.Dictionary.load(os.path.join(saved_data_dir, \"lda/gb_100t_dict.pkl\"))\n",
    "#dct30 = gensim.corpora.Dictionary.load(os.path.join(saved_data_dir, \"lda/gb_30t_dict.pkl\"))"
   ]
  },
  {
   "cell_type": "code",
   "execution_count": 3,
   "metadata": {},
   "outputs": [
    {
     "data": {
      "text/html": [
       "<div>\n",
       "<style scoped>\n",
       "    .dataframe tbody tr th:only-of-type {\n",
       "        vertical-align: middle;\n",
       "    }\n",
       "\n",
       "    .dataframe tbody tr th {\n",
       "        vertical-align: top;\n",
       "    }\n",
       "\n",
       "    .dataframe thead th {\n",
       "        text-align: right;\n",
       "    }\n",
       "</style>\n",
       "<table border=\"1\" class=\"dataframe\">\n",
       "  <thead>\n",
       "    <tr style=\"text-align: right;\">\n",
       "      <th></th>\n",
       "      <th>user_id</th>\n",
       "      <th>site_id</th>\n",
       "      <th>int_type</th>\n",
       "      <th>created_at</th>\n",
       "      <th>updated_at</th>\n",
       "      <th>journal_oid</th>\n",
       "      <th>site_index</th>\n",
       "      <th>is_nontrivial</th>\n",
       "      <th>is_self_interaction</th>\n",
       "      <th>body_text</th>\n",
       "      <th>tokens</th>\n",
       "      <th>pred_label</th>\n",
       "      <th>pred_prob_neutral</th>\n",
       "      <th>pred_prob_supportive</th>\n",
       "      <th>support_discretized</th>\n",
       "    </tr>\n",
       "  </thead>\n",
       "  <tbody>\n",
       "    <tr>\n",
       "      <td>540271</td>\n",
       "      <td>355936</td>\n",
       "      <td>11900</td>\n",
       "      <td>guestbook</td>\n",
       "      <td>1184103659000</td>\n",
       "      <td>1184103659000</td>\n",
       "      <td></td>\n",
       "      <td>-1.0</td>\n",
       "      <td>True</td>\n",
       "      <td>False</td>\n",
       "      <td>For all the help the medical community can be,...</td>\n",
       "      <td>[For, all, the, help, the, medical, community,...</td>\n",
       "      <td>1</td>\n",
       "      <td>0.331490</td>\n",
       "      <td>0.668510</td>\n",
       "      <td>False</td>\n",
       "    </tr>\n",
       "    <tr>\n",
       "      <td>3609373</td>\n",
       "      <td>1884841</td>\n",
       "      <td>119180</td>\n",
       "      <td>guestbook</td>\n",
       "      <td>1251075969000</td>\n",
       "      <td>1251075969000</td>\n",
       "      <td></td>\n",
       "      <td>-1.0</td>\n",
       "      <td>True</td>\n",
       "      <td>False</td>\n",
       "      <td>Kylee:  I love the story.  Next time just try ...</td>\n",
       "      <td>[Kylee, :,   , I, love, the, story, .,   , Nex...</td>\n",
       "      <td>1</td>\n",
       "      <td>0.232435</td>\n",
       "      <td>0.767565</td>\n",
       "      <td>True</td>\n",
       "    </tr>\n",
       "    <tr>\n",
       "      <td>4325045</td>\n",
       "      <td>1195944</td>\n",
       "      <td>55715</td>\n",
       "      <td>guestbook</td>\n",
       "      <td>1197856577000</td>\n",
       "      <td>1197856577000</td>\n",
       "      <td></td>\n",
       "      <td>-1.0</td>\n",
       "      <td>True</td>\n",
       "      <td>False</td>\n",
       "      <td>What an honor to be the very first person to s...</td>\n",
       "      <td>[What, an, honor, to, be, the, very, first, pe...</td>\n",
       "      <td>1</td>\n",
       "      <td>0.182593</td>\n",
       "      <td>0.817407</td>\n",
       "      <td>True</td>\n",
       "    </tr>\n",
       "    <tr>\n",
       "      <td>5414881</td>\n",
       "      <td>6773640</td>\n",
       "      <td>57152</td>\n",
       "      <td>guestbook</td>\n",
       "      <td>1301181775000</td>\n",
       "      <td>1301181775000</td>\n",
       "      <td></td>\n",
       "      <td>-1.0</td>\n",
       "      <td>True</td>\n",
       "      <td>False</td>\n",
       "      <td>Home is the best place to be, think about you ...</td>\n",
       "      <td>[Home, is, the, best, place, to, be, ,, think,...</td>\n",
       "      <td>0</td>\n",
       "      <td>0.584396</td>\n",
       "      <td>0.415604</td>\n",
       "      <td>False</td>\n",
       "    </tr>\n",
       "    <tr>\n",
       "      <td>1726463</td>\n",
       "      <td>15515585</td>\n",
       "      <td>186646</td>\n",
       "      <td>guestbook</td>\n",
       "      <td>1335786062000</td>\n",
       "      <td>1335786062000</td>\n",
       "      <td></td>\n",
       "      <td>-1.0</td>\n",
       "      <td>True</td>\n",
       "      <td>False</td>\n",
       "      <td>I was reading the words - we can never go back...</td>\n",
       "      <td>[I, was, reading, the, words, -, we, can, neve...</td>\n",
       "      <td>0</td>\n",
       "      <td>0.550263</td>\n",
       "      <td>0.449737</td>\n",
       "      <td>False</td>\n",
       "    </tr>\n",
       "  </tbody>\n",
       "</table>\n",
       "</div>"
      ],
      "text/plain": [
       "          user_id  site_id   int_type     created_at     updated_at  \\\n",
       "540271     355936    11900  guestbook  1184103659000  1184103659000   \n",
       "3609373   1884841   119180  guestbook  1251075969000  1251075969000   \n",
       "4325045   1195944    55715  guestbook  1197856577000  1197856577000   \n",
       "5414881   6773640    57152  guestbook  1301181775000  1301181775000   \n",
       "1726463  15515585   186646  guestbook  1335786062000  1335786062000   \n",
       "\n",
       "        journal_oid  site_index  is_nontrivial  is_self_interaction  \\\n",
       "540271                     -1.0           True                False   \n",
       "3609373                    -1.0           True                False   \n",
       "4325045                    -1.0           True                False   \n",
       "5414881                    -1.0           True                False   \n",
       "1726463                    -1.0           True                False   \n",
       "\n",
       "                                                 body_text  \\\n",
       "540271   For all the help the medical community can be,...   \n",
       "3609373  Kylee:  I love the story.  Next time just try ...   \n",
       "4325045  What an honor to be the very first person to s...   \n",
       "5414881  Home is the best place to be, think about you ...   \n",
       "1726463  I was reading the words - we can never go back...   \n",
       "\n",
       "                                                    tokens  pred_label  \\\n",
       "540271   [For, all, the, help, the, medical, community,...           1   \n",
       "3609373  [Kylee, :,   , I, love, the, story, .,   , Nex...           1   \n",
       "4325045  [What, an, honor, to, be, the, very, first, pe...           1   \n",
       "5414881  [Home, is, the, best, place, to, be, ,, think,...           0   \n",
       "1726463  [I, was, reading, the, words, -, we, can, neve...           0   \n",
       "\n",
       "         pred_prob_neutral  pred_prob_supportive  support_discretized  \n",
       "540271            0.331490              0.668510                False  \n",
       "3609373           0.232435              0.767565                 True  \n",
       "4325045           0.182593              0.817407                 True  \n",
       "5414881           0.584396              0.415604                False  \n",
       "1726463           0.550263              0.449737                False  "
      ]
     },
     "execution_count": 3,
     "metadata": {},
     "output_type": "execute_result"
    }
   ],
   "source": [
    "gbs = pd.read_hdf('data/classified_gbs.h5', key='gbs')\n",
    "gbs.head()"
   ]
  },
  {
   "cell_type": "code",
   "execution_count": 16,
   "metadata": {},
   "outputs": [],
   "source": [
    "topics = lda100.show_topics(100, num_words=100, formatted=False)"
   ]
  },
  {
   "cell_type": "code",
   "execution_count": 17,
   "metadata": {},
   "outputs": [],
   "source": [
    "tops = []\n",
    "bots = []\n",
    "for topic in topics:\n",
    "    w2p = [x[0] for x in topic[1] if not x[0].isspace()]\n",
    "    tops.append(w2p[:20])\n",
    "    bots.append(w2p[-5:])"
   ]
  },
  {
   "cell_type": "code",
   "execution_count": 18,
   "metadata": {},
   "outputs": [],
   "source": [
    "#https://stackoverflow.com/questions/17864466\n",
    "def flatten(A):\n",
    "    rt = []\n",
    "    for i in A:\n",
    "        if isinstance(i,list): rt.extend(flatten(i))\n",
    "        else: rt.append(i)\n",
    "    return rt"
   ]
  },
  {
   "cell_type": "code",
   "execution_count": 19,
   "metadata": {},
   "outputs": [],
   "source": [
    "for i, b in enumerate(bots):\n",
    "    t = tops.copy()\n",
    "    del t[i]\n",
    "    tops_elsewhere = flatten(t)\n",
    "    for bw in b:\n",
    "        if bw not in tops_elsewhere:\n",
    "            b.remove(bw)"
   ]
  },
  {
   "cell_type": "code",
   "execution_count": 20,
   "metadata": {},
   "outputs": [],
   "source": [
    "from random import sample\n",
    "citizens = []\n",
    "for t, b in zip(tops, bots):\n",
    "    for i in range(0, 8):\n",
    "        this = []\n",
    "        this.extend(sample(t, 5))\n",
    "        this.extend(sample(b, 1))\n",
    "        citizens.append(this)"
   ]
  },
  {
   "cell_type": "code",
   "execution_count": 21,
   "metadata": {},
   "outputs": [],
   "source": [
    "df = pd.DataFrame(citizens, columns=[\"C1\", \"C2\", \"C3\", \"C4\", \"C5\", \"I\"])\n",
    "df[\"for_topic\"] = [int(x/8) for x in range(0,800)]"
   ]
  },
  {
   "cell_type": "code",
   "execution_count": 23,
   "metadata": {},
   "outputs": [],
   "source": [
    "df.to_csv(\"pilot_100t.csv\")"
   ]
  },
  {
   "cell_type": "code",
   "execution_count": 24,
   "metadata": {},
   "outputs": [],
   "source": [
    "topics = lda30.show_topics(30, num_words=100, formatted=False)"
   ]
  },
  {
   "cell_type": "code",
   "execution_count": 25,
   "metadata": {},
   "outputs": [],
   "source": [
    "tops = []\n",
    "bots = []\n",
    "for topic in topics:\n",
    "    w2p = [x[0] for x in topic[1] if not x[0].isspace()]\n",
    "    tops.append(w2p[:20])\n",
    "    bots.append(w2p[-5:])"
   ]
  },
  {
   "cell_type": "code",
   "execution_count": 26,
   "metadata": {},
   "outputs": [],
   "source": [
    "#https://stackoverflow.com/questions/17864466\n",
    "def flatten(A):\n",
    "    rt = []\n",
    "    for i in A:\n",
    "        if isinstance(i,list): rt.extend(flatten(i))\n",
    "        else: rt.append(i)\n",
    "    return rt"
   ]
  },
  {
   "cell_type": "code",
   "execution_count": 27,
   "metadata": {},
   "outputs": [],
   "source": [
    "for i, b in enumerate(bots):\n",
    "    t = tops.copy()\n",
    "    del t[i]\n",
    "    tops_elsewhere = flatten(t)\n",
    "    for bw in b:\n",
    "        if bw not in tops_elsewhere:\n",
    "            b.remove(bw)"
   ]
  },
  {
   "cell_type": "code",
   "execution_count": 28,
   "metadata": {},
   "outputs": [],
   "source": [
    "from random import sample\n",
    "citizens = []\n",
    "for t, b in zip(tops, bots):\n",
    "    for i in range(0, 8):\n",
    "        this = []\n",
    "        this.extend(sample(t, 5))\n",
    "        this.extend(sample(b, 1))\n",
    "        citizens.append(this)"
   ]
  },
  {
   "cell_type": "code",
   "execution_count": 29,
   "metadata": {},
   "outputs": [],
   "source": [
    "df = pd.DataFrame(citizens, columns=[\"C1\", \"C2\", \"C3\", \"C4\", \"C5\", \"I\"])\n",
    "df[\"for_topic\"] = [int(x/8) for x in range(0,240)]"
   ]
  },
  {
   "cell_type": "code",
   "execution_count": 30,
   "metadata": {},
   "outputs": [],
   "source": [
    "df.to_csv(\"pilot_30t.csv\")"
   ]
  },
  {
   "cell_type": "markdown",
   "metadata": {},
   "source": [
    "### Analysis"
   ]
  },
  {
   "cell_type": "code",
   "execution_count": 9,
   "metadata": {},
   "outputs": [],
   "source": [
    "filled_df = pd.read_csv(\"pilot_100t_an.csv\", names = [\"index\", \"C1\", \"C2\", \"C3\", \"C4\", \"C5\", \"I\", \"topic\", \n",
    "                                                        \"w1\", \"u1\", \"w2\", \"u2\", \"w3\", \"u3\", \"w4\", \"u4\"])\n",
    "filled_df = filled_df.replace(\"{}\", np.nan)"
   ]
  },
  {
   "cell_type": "code",
   "execution_count": 19,
   "metadata": {},
   "outputs": [],
   "source": [
    "comparisons = filled_df[[\"I\", \"topic\", \"w1\", \"w2\", \"w3\"]][:800]"
   ]
  },
  {
   "cell_type": "code",
   "execution_count": 33,
   "metadata": {},
   "outputs": [],
   "source": [
    "bools = comparisons[[\"I\", \"w1\", \"w2\", \"w3\"]][:800]\n",
    "one = bools[\"I\"] == comparisons[\"w1\"]\n",
    "two = bools[\"I\"] == comparisons[\"w2\"]\n",
    "three = bools[\"I\"] == comparisons[\"w3\"]\n",
    "answers = one.append(two).append(three)\n"
   ]
  },
  {
   "cell_type": "code",
   "execution_count": 21,
   "metadata": {},
   "outputs": [],
   "source": [
    "from collections import Counter"
   ]
  },
  {
   "cell_type": "code",
   "execution_count": 29,
   "metadata": {},
   "outputs": [
    {
     "data": {
      "text/plain": [
       "Counter({False: 2247, True: 153})"
      ]
     },
     "execution_count": 29,
     "metadata": {},
     "output_type": "execute_result"
    }
   ],
   "source": [
    "Counter(answers)"
   ]
  },
  {
   "cell_type": "code",
   "execution_count": 30,
   "metadata": {},
   "outputs": [
    {
     "data": {
      "text/plain": [
       "0.06809078771695594"
      ]
     },
     "execution_count": 30,
     "metadata": {},
     "output_type": "execute_result"
    }
   ],
   "source": [
    "153/2247"
   ]
  },
  {
   "cell_type": "code",
   "execution_count": 39,
   "metadata": {},
   "outputs": [],
   "source": [
    "t = pd.DataFrame(comparisons.topic.append(comparisons.topic).append(comparisons.topic))\n",
    "t['a'] = answers"
   ]
  },
  {
   "cell_type": "code",
   "execution_count": 51,
   "metadata": {},
   "outputs": [],
   "source": [
    "c = Counter(t[t.a == True].topic)\n",
    "x = [x for x in c.keys()]; y = [y for y in c.values()]"
   ]
  },
  {
   "cell_type": "code",
   "execution_count": 53,
   "metadata": {},
   "outputs": [
    {
     "data": {
      "text/plain": [
       "[<matplotlib.lines.Line2D at 0x2b14367ff9e8>]"
      ]
     },
     "execution_count": 53,
     "metadata": {},
     "output_type": "execute_result"
    },
    {
     "data": {
      "image/png": "[encoded data removed]",
      "text/plain": [
       "<Figure size 432x288 with 1 Axes>"
      ]
     },
     "metadata": {
      "needs_background": "light"
     },
     "output_type": "display_data"
    }
   ],
   "source": [
    "import matplotlib.pyplot as mpl\n",
    "mpl.plot(x, y)"
   ]
  },
  {
   "cell_type": "code",
   "execution_count": 58,
   "metadata": {},
   "outputs": [
    {
     "name": "stdout",
     "output_type": "stream",
     "text": [
      "48: 7\n",
      "58: 6\n",
      "72: 5\n",
      "57: 5\n",
      "22: 5\n",
      "11: 5\n",
      "99: 4\n",
      "97: 4\n",
      "88: 4\n",
      "75: 4\n",
      "63: 4\n",
      "60: 4\n",
      "28: 4\n",
      "92: 3\n",
      "91: 3\n",
      "85: 3\n",
      "82: 3\n",
      "80: 3\n",
      "78: 3\n",
      "7: 3\n",
      "52: 3\n",
      "46: 3\n",
      "38: 3\n",
      "34: 3\n",
      "23: 3\n",
      "17: 3\n",
      "16: 3\n",
      "89: 2\n"
     ]
    }
   ],
   "source": [
    "d_view = [ (v,k) for k,v in zip(c.keys(), c.values())]\n",
    "d_view.sort(reverse=True)\n",
    "for v,k in d_view:\n",
    "    print(\"%s: %d\" % (k,v))\n",
    "    if v == 2:\n",
    "        break"
   ]
  },
  {
   "cell_type": "code",
   "execution_count": 59,
   "metadata": {},
   "outputs": [],
   "source": [
    "# 48 is incoherent, 58 is Names, 72 is incoherent, 57 is urls, 22 is symbols. Noisy"
   ]
  },
  {
   "cell_type": "code",
   "execution_count": null,
   "metadata": {},
   "outputs": [],
   "source": []
  }
 ],
 "metadata": {
  "kernelspec": {
   "display_name": "Python (shared-conda)",
   "language": "python",
   "name": "shared-conda"
  },
  "language_info": {
   "codemirror_mode": {
    "name": "ipython",
    "version": 3
   },
   "file_extension": ".py",
   "mimetype": "text/x-python",
   "name": "python",
   "nbconvert_exporter": "python",
   "pygments_lexer": "ipython3",
   "version": "3.7.3"
  }
 },
 "nbformat": 4,
 "nbformat_minor": 2
}
